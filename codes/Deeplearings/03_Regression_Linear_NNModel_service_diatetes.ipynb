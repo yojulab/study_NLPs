{
 "cells": [
  {
   "cell_type": "code",
   "execution_count": 1,
   "id": "9a391197",
   "metadata": {
    "_cell_guid": "b1076dfc-b9ad-4769-8c92-a6c4dae69d19",
    "_uuid": "8f2839f25d086af736a60e9eeb907d3b93b6e0e5",
    "execution": {
     "iopub.execute_input": "2025-02-03T08:41:41.367005Z",
     "iopub.status.busy": "2025-02-03T08:41:41.366624Z",
     "iopub.status.idle": "2025-02-03T08:41:42.578578Z",
     "shell.execute_reply": "2025-02-03T08:41:42.577263Z"
    },
    "papermill": {
     "duration": 1.218458,
     "end_time": "2025-02-03T08:41:42.580435",
     "exception": false,
     "start_time": "2025-02-03T08:41:41.361977",
     "status": "completed"
    },
    "tags": []
   },
   "outputs": [
    {
     "name": "stdout",
     "output_type": "stream",
     "text": [
      "/kaggle/input/linear_regression_nnm.pth/pytorch/default/1/linear_regression_nnm.pth\n"
     ]
    }
   ],
   "source": [
    "# This Python 3 environment comes with many helpful analytics libraries installed\n",
    "# It is defined by the kaggle/python Docker image: https://github.com/kaggle/docker-python\n",
    "# For example, here's several helpful packages to load\n",
    "\n",
    "import numpy as np # linear algebra\n",
    "import pandas as pd # data processing, CSV file I/O (e.g. pd.read_csv)\n",
    "\n",
    "# Input data files are available in the read-only \"../input/\" directory\n",
    "# For example, running this (by clicking run or pressing Shift+Enter) will list all files under the input directory\n",
    "\n",
    "import os\n",
    "for dirname, _, filenames in os.walk('/kaggle/input'):\n",
    "    for filename in filenames:\n",
    "        print(os.path.join(dirname, filename))\n",
    "\n",
    "# You can write up to 20GB to the current directory (/kaggle/working/) that gets preserved as output when you create a version using \"Save & Run All\" \n",
    "# You can also write temporary files to /kaggle/temp/, but they won't be saved outside of the current session"
   ]
  },
  {
   "cell_type": "code",
   "execution_count": 2,
   "id": "74521dd6",
   "metadata": {
    "execution": {
     "iopub.execute_input": "2025-02-03T08:41:42.588320Z",
     "iopub.status.busy": "2025-02-03T08:41:42.587793Z",
     "iopub.status.idle": "2025-02-03T08:41:47.253517Z",
     "shell.execute_reply": "2025-02-03T08:41:47.252058Z"
    },
    "papermill": {
     "duration": 4.671732,
     "end_time": "2025-02-03T08:41:47.255534",
     "exception": false,
     "start_time": "2025-02-03T08:41:42.583802",
     "status": "completed"
    },
    "tags": []
   },
   "outputs": [],
   "source": [
    "import torch\n",
    "# Neural Network model linear regression\n",
    "class LinearRegressionNNM(torch.nn.Module):\n",
    "    def __init__(self, input_dim):    # input_dim:features 열 갯수\n",
    "        super(LinearRegressionNNM, self).__init__()\n",
    "        # super(self).__init__()\n",
    "        self.hidden_1 = torch.nn.Linear(input_dim, 64)\n",
    "        self.hidden_2 = torch.nn.Linear(64, 32)\n",
    "        self.hidden_3 = torch.nn.Linear(32, 16)\n",
    "        self.output = torch.nn.Linear(16, 1)\n",
    "        self.relu = torch.nn.ReLU()  # Activation function\n",
    "\n",
    "    def forward(self, x):\n",
    "        x = self.relu(self.hidden_1(x))  # hidden layer 1\n",
    "        x = self.relu(self.hidden_2(x))  # hidden layer 2\n",
    "        x = self.relu(self.hidden_3(x))  # hidden layer 3\n",
    "        out = self.output(x)   # result\n",
    "        return out\n"
   ]
  },
  {
   "cell_type": "code",
   "execution_count": 3,
   "id": "e530e60d",
   "metadata": {
    "execution": {
     "iopub.execute_input": "2025-02-03T08:41:47.263189Z",
     "iopub.status.busy": "2025-02-03T08:41:47.262706Z",
     "iopub.status.idle": "2025-02-03T08:41:47.305764Z",
     "shell.execute_reply": "2025-02-03T08:41:47.304679Z"
    },
    "papermill": {
     "duration": 0.04871,
     "end_time": "2025-02-03T08:41:47.307464",
     "exception": false,
     "start_time": "2025-02-03T08:41:47.258754",
     "status": "completed"
    },
    "tags": []
   },
   "outputs": [
    {
     "data": {
      "text/plain": [
       "LinearRegressionNNM(\n",
       "  (hidden_1): Linear(in_features=10, out_features=64, bias=True)\n",
       "  (hidden_2): Linear(in_features=64, out_features=32, bias=True)\n",
       "  (hidden_3): Linear(in_features=32, out_features=16, bias=True)\n",
       "  (output): Linear(in_features=16, out_features=1, bias=True)\n",
       "  (relu): ReLU()\n",
       ")"
      ]
     },
     "execution_count": 3,
     "metadata": {},
     "output_type": "execute_result"
    }
   ],
   "source": [
    "loaded_model = LinearRegressionNNM(10)\n",
    "loaded_model"
   ]
  },
  {
   "cell_type": "code",
   "execution_count": 4,
   "id": "8c537445",
   "metadata": {
    "execution": {
     "iopub.execute_input": "2025-02-03T08:41:47.315155Z",
     "iopub.status.busy": "2025-02-03T08:41:47.314813Z",
     "iopub.status.idle": "2025-02-03T08:41:47.328756Z",
     "shell.execute_reply": "2025-02-03T08:41:47.327646Z"
    },
    "papermill": {
     "duration": 0.019619,
     "end_time": "2025-02-03T08:41:47.330510",
     "exception": false,
     "start_time": "2025-02-03T08:41:47.310891",
     "status": "completed"
    },
    "tags": []
   },
   "outputs": [
    {
     "name": "stderr",
     "output_type": "stream",
     "text": [
      "<ipython-input-4-f3202727984a>:1: FutureWarning: You are using `torch.load` with `weights_only=False` (the current default value), which uses the default pickle module implicitly. It is possible to construct malicious pickle data which will execute arbitrary code during unpickling (See https://github.com/pytorch/pytorch/blob/main/SECURITY.md#untrusted-models for more details). In a future release, the default value for `weights_only` will be flipped to `True`. This limits the functions that could be executed during unpickling. Arbitrary objects will no longer be allowed to be loaded via this mode unless they are explicitly allowlisted by the user via `torch.serialization.add_safe_globals`. We recommend you start setting `weights_only=True` for any use case where you don't have full control of the loaded file. Please open an issue on GitHub for any issues related to this experimental feature.\n",
      "  loaded_state_dict = torch.load(\"/kaggle/input/linear_regression_nnm.pth/pytorch/default/1/linear_regression_nnm.pth\")\n"
     ]
    }
   ],
   "source": [
    "loaded_state_dict = torch.load(\"/kaggle/input/linear_regression_nnm.pth/pytorch/default/1/linear_regression_nnm.pth\")"
   ]
  },
  {
   "cell_type": "code",
   "execution_count": 5,
   "id": "41fa5211",
   "metadata": {
    "execution": {
     "iopub.execute_input": "2025-02-03T08:41:47.338475Z",
     "iopub.status.busy": "2025-02-03T08:41:47.338136Z",
     "iopub.status.idle": "2025-02-03T08:41:47.353723Z",
     "shell.execute_reply": "2025-02-03T08:41:47.352643Z"
    },
    "papermill": {
     "duration": 0.021499,
     "end_time": "2025-02-03T08:41:47.355414",
     "exception": false,
     "start_time": "2025-02-03T08:41:47.333915",
     "status": "completed"
    },
    "tags": []
   },
   "outputs": [
    {
     "data": {
      "text/plain": [
       "LinearRegressionNNM(\n",
       "  (hidden_1): Linear(in_features=10, out_features=64, bias=True)\n",
       "  (hidden_2): Linear(in_features=64, out_features=32, bias=True)\n",
       "  (hidden_3): Linear(in_features=32, out_features=16, bias=True)\n",
       "  (output): Linear(in_features=16, out_features=1, bias=True)\n",
       "  (relu): ReLU()\n",
       ")"
      ]
     },
     "execution_count": 5,
     "metadata": {},
     "output_type": "execute_result"
    }
   ],
   "source": [
    "loaded_model.load_state_dict(loaded_state_dict)\n",
    "loaded_model.eval()"
   ]
  },
  {
   "cell_type": "markdown",
   "id": "8f8757bf",
   "metadata": {
    "papermill": {
     "duration": 0.002896,
     "end_time": "2025-02-03T08:41:47.361727",
     "exception": false,
     "start_time": "2025-02-03T08:41:47.358831",
     "status": "completed"
    },
    "tags": []
   },
   "source": [
    "## 데이터 예측 서비스"
   ]
  },
  {
   "cell_type": "code",
   "execution_count": 6,
   "id": "f9429929",
   "metadata": {
    "execution": {
     "iopub.execute_input": "2025-02-03T08:41:47.369371Z",
     "iopub.status.busy": "2025-02-03T08:41:47.369018Z",
     "iopub.status.idle": "2025-02-03T08:41:49.180337Z",
     "shell.execute_reply": "2025-02-03T08:41:49.179084Z"
    },
    "papermill": {
     "duration": 1.817322,
     "end_time": "2025-02-03T08:41:49.182250",
     "exception": false,
     "start_time": "2025-02-03T08:41:47.364928",
     "status": "completed"
    },
    "tags": []
   },
   "outputs": [
    {
     "data": {
      "text/plain": [
       "((442, 10), (442,))"
      ]
     },
     "execution_count": 6,
     "metadata": {},
     "output_type": "execute_result"
    }
   ],
   "source": [
    "# 데이터 로딩과 일부 사용\n",
    "from sklearn.datasets import load_diabetes\n",
    "data_diabetes = load_diabetes()\n",
    "features, label = data_diabetes.data, data_diabetes.target\n",
    "features.shape, label.shape"
   ]
  },
  {
   "cell_type": "code",
   "execution_count": 7,
   "id": "b6e746a1",
   "metadata": {
    "execution": {
     "iopub.execute_input": "2025-02-03T08:41:49.190882Z",
     "iopub.status.busy": "2025-02-03T08:41:49.190318Z",
     "iopub.status.idle": "2025-02-03T08:41:49.263682Z",
     "shell.execute_reply": "2025-02-03T08:41:49.262663Z"
    },
    "papermill": {
     "duration": 0.079399,
     "end_time": "2025-02-03T08:41:49.265331",
     "exception": false,
     "start_time": "2025-02-03T08:41:49.185932",
     "status": "completed"
    },
    "tags": []
   },
   "outputs": [
    {
     "data": {
      "text/plain": [
       "array([[237.55695 ],\n",
       "       [ 82.467514],\n",
       "       [153.15277 ]], dtype=float32)"
      ]
     },
     "execution_count": 7,
     "metadata": {},
     "output_type": "execute_result"
    }
   ],
   "source": [
    "features_tenser = torch.tensor(features[:3], dtype=torch.float32)\n",
    "# features_tenser\n",
    "with torch.no_grad():\n",
    "    predicts = loaded_model(features_tenser)\n",
    "predicts.numpy() "
   ]
  },
  {
   "cell_type": "code",
   "execution_count": null,
   "id": "61aa0040",
   "metadata": {
    "papermill": {
     "duration": 0.003212,
     "end_time": "2025-02-03T08:41:49.272246",
     "exception": false,
     "start_time": "2025-02-03T08:41:49.269034",
     "status": "completed"
    },
    "tags": []
   },
   "outputs": [],
   "source": []
  }
 ],
 "metadata": {
  "kaggle": {
   "accelerator": "none",
   "dataSources": [
    {
     "isSourceIdPinned": true,
     "modelId": 234294,
     "modelInstanceId": 212645,
     "sourceId": 248779,
     "sourceType": "modelInstanceVersion"
    }
   ],
   "dockerImageVersionId": 30839,
   "isGpuEnabled": false,
   "isInternetEnabled": false,
   "language": "python",
   "sourceType": "notebook"
  },
  "kernelspec": {
   "display_name": "Python 3",
   "language": "python",
   "name": "python3"
  },
  "language_info": {
   "codemirror_mode": {
    "name": "ipython",
    "version": 3
   },
   "file_extension": ".py",
   "mimetype": "text/x-python",
   "name": "python",
   "nbconvert_exporter": "python",
   "pygments_lexer": "ipython3",
   "version": "3.10.12"
  },
  "papermill": {
   "default_parameters": {},
   "duration": 13.614509,
   "end_time": "2025-02-03T08:41:51.888051",
   "environment_variables": {},
   "exception": null,
   "input_path": "__notebook__.ipynb",
   "output_path": "__notebook__.ipynb",
   "parameters": {},
   "start_time": "2025-02-03T08:41:38.273542",
   "version": "2.6.0"
  }
 },
 "nbformat": 4,
 "nbformat_minor": 5
}
