{
 "cells": [
  {
   "cell_type": "markdown",
   "id": "2988fa26",
   "metadata": {
    "id": "oq5l7PlCJHGK",
    "papermill": {
     "duration": 0.006231,
     "end_time": "2025-02-03T08:19:55.941124",
     "exception": false,
     "start_time": "2025-02-03T08:19:55.934893",
     "status": "completed"
    },
    "tags": []
   },
   "source": [
    "## 데이터수집"
   ]
  },
  {
   "cell_type": "code",
   "execution_count": 1,
   "id": "f4e2d2ed",
   "metadata": {
    "execution": {
     "iopub.execute_input": "2025-02-03T08:19:55.953446Z",
     "iopub.status.busy": "2025-02-03T08:19:55.953151Z",
     "iopub.status.idle": "2025-02-03T08:19:57.177505Z",
     "shell.execute_reply": "2025-02-03T08:19:57.176639Z"
    },
    "id": "WWqnlVD1Jzzr",
    "outputId": "b720360d-8452-4f42-f643-f7730c47e2fd",
    "papermill": {
     "duration": 1.231684,
     "end_time": "2025-02-03T08:19:57.179194",
     "exception": false,
     "start_time": "2025-02-03T08:19:55.947510",
     "status": "completed"
    },
    "tags": []
   },
   "outputs": [
    {
     "data": {
      "text/plain": [
       "((442, 10), (442,))"
      ]
     },
     "execution_count": 1,
     "metadata": {},
     "output_type": "execute_result"
    }
   ],
   "source": [
    "from sklearn.datasets import load_diabetes\n",
    "data_diabetes = load_diabetes()\n",
    "features, label = data_diabetes.data, data_diabetes.target\n",
    "features.shape, label.shape"
   ]
  },
  {
   "cell_type": "markdown",
   "id": "71d3a7fe",
   "metadata": {
    "id": "5KcIOhMiJNKp",
    "papermill": {
     "duration": 0.004545,
     "end_time": "2025-02-03T08:19:57.188866",
     "exception": false,
     "start_time": "2025-02-03T08:19:57.184321",
     "status": "completed"
    },
    "tags": []
   },
   "source": [
    "## 데이터 전처리\n",
    "- 데이터 분석"
   ]
  },
  {
   "cell_type": "markdown",
   "id": "6585f750",
   "metadata": {
    "id": "zucSSN6sJWJC",
    "papermill": {
     "duration": 0.004274,
     "end_time": "2025-02-03T08:19:57.197936",
     "exception": false,
     "start_time": "2025-02-03T08:19:57.193662",
     "status": "completed"
    },
    "tags": []
   },
   "source": [
    "## 데이터 분할\n",
    "- train, test, validation"
   ]
  },
  {
   "cell_type": "code",
   "execution_count": 2,
   "id": "3b09249a",
   "metadata": {
    "execution": {
     "iopub.execute_input": "2025-02-03T08:19:57.208388Z",
     "iopub.status.busy": "2025-02-03T08:19:57.207976Z",
     "iopub.status.idle": "2025-02-03T08:19:57.295153Z",
     "shell.execute_reply": "2025-02-03T08:19:57.294101Z"
    },
    "id": "H4Bwj5IvKsXq",
    "papermill": {
     "duration": 0.094741,
     "end_time": "2025-02-03T08:19:57.297086",
     "exception": false,
     "start_time": "2025-02-03T08:19:57.202345",
     "status": "completed"
    },
    "tags": []
   },
   "outputs": [],
   "source": [
    "from sklearn.model_selection import train_test_split\n",
    "train_features, test_features, train_label, test_label = train_test_split(features, label, test_size=0.2, random_state=42)"
   ]
  },
  {
   "cell_type": "code",
   "execution_count": 3,
   "id": "72a905f7",
   "metadata": {
    "execution": {
     "iopub.execute_input": "2025-02-03T08:19:57.308156Z",
     "iopub.status.busy": "2025-02-03T08:19:57.307865Z",
     "iopub.status.idle": "2025-02-03T08:20:00.774952Z",
     "shell.execute_reply": "2025-02-03T08:20:00.774194Z"
    },
    "id": "yuhS4Jc9LQbZ",
    "papermill": {
     "duration": 3.474566,
     "end_time": "2025-02-03T08:20:00.776679",
     "exception": false,
     "start_time": "2025-02-03T08:19:57.302113",
     "status": "completed"
    },
    "tags": []
   },
   "outputs": [],
   "source": [
    "import torch"
   ]
  },
  {
   "cell_type": "code",
   "execution_count": 4,
   "id": "2206bba7",
   "metadata": {
    "execution": {
     "iopub.execute_input": "2025-02-03T08:20:00.787490Z",
     "iopub.status.busy": "2025-02-03T08:20:00.787119Z",
     "iopub.status.idle": "2025-02-03T08:20:00.823049Z",
     "shell.execute_reply": "2025-02-03T08:20:00.822092Z"
    },
    "id": "t_YAJ9mELdpZ",
    "outputId": "c71d840d-763a-4497-b6c6-1e27a09e71c6",
    "papermill": {
     "duration": 0.042899,
     "end_time": "2025-02-03T08:20:00.824530",
     "exception": false,
     "start_time": "2025-02-03T08:20:00.781631",
     "status": "completed"
    },
    "tags": []
   },
   "outputs": [
    {
     "data": {
      "text/plain": [
       "(torch.Tensor, torch.Tensor, torch.Size([353, 1]))"
      ]
     },
     "execution_count": 4,
     "metadata": {},
     "output_type": "execute_result"
    }
   ],
   "source": [
    "train_features_tensor = torch.tensor(train_features, dtype=torch.float32)\n",
    "train_label_tensor = torch.tensor(train_label, dtype=torch.float32).view(-1, 1)    # 행렬 모양으로 변경\n",
    "# test_features_tensor = torch.tensor(test_features)\n",
    "# test_label_tensor = torch.tensor(test_label)\n",
    "type(train_features_tensor), type(train_label_tensor), train_label_tensor.shape"
   ]
  },
  {
   "cell_type": "markdown",
   "id": "52afa594",
   "metadata": {
    "id": "nATrFQ0EJjwJ",
    "papermill": {
     "duration": 0.004664,
     "end_time": "2025-02-03T08:20:00.834378",
     "exception": false,
     "start_time": "2025-02-03T08:20:00.829714",
     "status": "completed"
    },
    "tags": []
   },
   "source": [
    "## 모델 학습"
   ]
  },
  {
   "cell_type": "code",
   "execution_count": 5,
   "id": "3714c0df",
   "metadata": {
    "execution": {
     "iopub.execute_input": "2025-02-03T08:20:00.845215Z",
     "iopub.status.busy": "2025-02-03T08:20:00.844907Z",
     "iopub.status.idle": "2025-02-03T08:20:00.893820Z",
     "shell.execute_reply": "2025-02-03T08:20:00.892983Z"
    },
    "papermill": {
     "duration": 0.056528,
     "end_time": "2025-02-03T08:20:00.895632",
     "exception": false,
     "start_time": "2025-02-03T08:20:00.839104",
     "status": "completed"
    },
    "tags": []
   },
   "outputs": [],
   "source": [
    "torch.nn.Module?"
   ]
  },
  {
   "cell_type": "code",
   "execution_count": 6,
   "id": "634fadda",
   "metadata": {
    "execution": {
     "iopub.execute_input": "2025-02-03T08:20:00.907219Z",
     "iopub.status.busy": "2025-02-03T08:20:00.906924Z",
     "iopub.status.idle": "2025-02-03T08:20:00.912507Z",
     "shell.execute_reply": "2025-02-03T08:20:00.911635Z"
    },
    "id": "-pe2fsPfL9gp",
    "papermill": {
     "duration": 0.012958,
     "end_time": "2025-02-03T08:20:00.913989",
     "exception": false,
     "start_time": "2025-02-03T08:20:00.901031",
     "status": "completed"
    },
    "tags": []
   },
   "outputs": [],
   "source": [
    "# Neural Network model linear regression\n",
    "class LinearRegressionNNM(torch.nn.Module):\n",
    "    def __init__(self, input_dim):    # input_dim:features 열 갯수\n",
    "        super(LinearRegressionNNM, self).__init__()\n",
    "        # super(self).__init__()\n",
    "        self.hidden_1 = torch.nn.Linear(input_dim, 64)\n",
    "        self.hidden_2 = torch.nn.Linear(64, 32)\n",
    "        self.hidden_3 = torch.nn.Linear(32, 16)\n",
    "        self.output = torch.nn.Linear(16, 1)\n",
    "        self.relu = torch.nn.ReLU()  # Activation function\n",
    "\n",
    "    def forward(self, x):\n",
    "        x = self.relu(self.hidden_1(x))  # hidden layer 1\n",
    "        x = self.relu(self.hidden_2(x))  # hidden layer 2\n",
    "        x = self.relu(self.hidden_3(x))  # hidden layer 3\n",
    "        out = self.output(x)   # result\n",
    "        return out\n"
   ]
  },
  {
   "cell_type": "code",
   "execution_count": 7,
   "id": "fb910c7c",
   "metadata": {
    "execution": {
     "iopub.execute_input": "2025-02-03T08:20:00.925214Z",
     "iopub.status.busy": "2025-02-03T08:20:00.924905Z",
     "iopub.status.idle": "2025-02-03T08:20:00.929781Z",
     "shell.execute_reply": "2025-02-03T08:20:00.929097Z"
    },
    "id": "gJRMFMXjOToZ",
    "outputId": "eff5c085-ceb2-462a-975f-ef6f08e71131",
    "papermill": {
     "duration": 0.012006,
     "end_time": "2025-02-03T08:20:00.931115",
     "exception": false,
     "start_time": "2025-02-03T08:20:00.919109",
     "status": "completed"
    },
    "tags": []
   },
   "outputs": [
    {
     "data": {
      "text/plain": [
       "(torch.Size([353, 10]), torch.Size([353, 1]))"
      ]
     },
     "execution_count": 7,
     "metadata": {},
     "output_type": "execute_result"
    }
   ],
   "source": [
    "train_features_tensor.shape, train_label_tensor.shape"
   ]
  },
  {
   "cell_type": "code",
   "execution_count": 8,
   "id": "f0a5774e",
   "metadata": {
    "execution": {
     "iopub.execute_input": "2025-02-03T08:20:00.941638Z",
     "iopub.status.busy": "2025-02-03T08:20:00.941313Z",
     "iopub.status.idle": "2025-02-03T08:20:00.956329Z",
     "shell.execute_reply": "2025-02-03T08:20:00.955331Z"
    },
    "id": "N6dfYfN9OKVZ",
    "papermill": {
     "duration": 0.022072,
     "end_time": "2025-02-03T08:20:00.957938",
     "exception": false,
     "start_time": "2025-02-03T08:20:00.935866",
     "status": "completed"
    },
    "tags": []
   },
   "outputs": [],
   "source": [
    "model = LinearRegressionNNM(10)"
   ]
  },
  {
   "cell_type": "code",
   "execution_count": 9,
   "id": "87a16936",
   "metadata": {
    "execution": {
     "iopub.execute_input": "2025-02-03T08:20:00.972484Z",
     "iopub.status.busy": "2025-02-03T08:20:00.972142Z",
     "iopub.status.idle": "2025-02-03T08:20:00.977153Z",
     "shell.execute_reply": "2025-02-03T08:20:00.976329Z"
    },
    "id": "Vu7UEFjrPNGR",
    "outputId": "2459ef1f-9b7b-4392-90db-0c868ab350f4",
    "papermill": {
     "duration": 0.013073,
     "end_time": "2025-02-03T08:20:00.978535",
     "exception": false,
     "start_time": "2025-02-03T08:20:00.965462",
     "status": "completed"
    },
    "tags": []
   },
   "outputs": [
    {
     "data": {
      "text/plain": [
       "LinearRegressionNNM(\n",
       "  (hidden_1): Linear(in_features=10, out_features=64, bias=True)\n",
       "  (hidden_2): Linear(in_features=64, out_features=32, bias=True)\n",
       "  (hidden_3): Linear(in_features=32, out_features=16, bias=True)\n",
       "  (output): Linear(in_features=16, out_features=1, bias=True)\n",
       "  (relu): ReLU()\n",
       ")"
      ]
     },
     "execution_count": 9,
     "metadata": {},
     "output_type": "execute_result"
    }
   ],
   "source": [
    "model"
   ]
  },
  {
   "cell_type": "code",
   "execution_count": 10,
   "id": "91181911",
   "metadata": {
    "execution": {
     "iopub.execute_input": "2025-02-03T08:20:00.990064Z",
     "iopub.status.busy": "2025-02-03T08:20:00.989763Z",
     "iopub.status.idle": "2025-02-03T08:20:05.049123Z",
     "shell.execute_reply": "2025-02-03T08:20:05.048357Z"
    },
    "id": "PkH3WN7eVZE6",
    "papermill": {
     "duration": 4.067069,
     "end_time": "2025-02-03T08:20:05.050811",
     "exception": false,
     "start_time": "2025-02-03T08:20:00.983742",
     "status": "completed"
    },
    "tags": []
   },
   "outputs": [],
   "source": [
    "criterion = torch.nn.MSELoss()  # Loss function\n",
    "# optimizer = torch.optim.SGD(model.parameters(), lr=0.01)  # optimizer function\n",
    "optimizer = torch.optim.Adam(model.parameters(), lr=0.001)  # optimizer function"
   ]
  },
  {
   "cell_type": "code",
   "execution_count": 11,
   "id": "06166947",
   "metadata": {
    "execution": {
     "iopub.execute_input": "2025-02-03T08:20:05.062209Z",
     "iopub.status.busy": "2025-02-03T08:20:05.061793Z",
     "iopub.status.idle": "2025-02-03T08:20:20.804527Z",
     "shell.execute_reply": "2025-02-03T08:20:20.803676Z"
    },
    "id": "fAp4BWFOWpvJ",
    "outputId": "c011f3aa-ea92-4172-8073-244b0321a5e7",
    "papermill": {
     "duration": 15.750211,
     "end_time": "2025-02-03T08:20:20.806333",
     "exception": false,
     "start_time": "2025-02-03T08:20:05.056122",
     "status": "completed"
    },
    "tags": []
   },
   "outputs": [
    {
     "name": "stdout",
     "output_type": "stream",
     "text": [
      "epoch: 0, loss: 29777.78515625\n",
      "epoch: 1000, loss: 2967.0478515625\n",
      "epoch: 2000, loss: 2874.95849609375\n",
      "epoch: 3000, loss: 2798.280029296875\n",
      "epoch: 4000, loss: 2690.76904296875\n",
      "epoch: 5000, loss: 2422.831787109375\n",
      "epoch: 6000, loss: 1992.7197265625\n",
      "epoch: 7000, loss: 1277.6826171875\n",
      "epoch: 8000, loss: 750.95263671875\n",
      "epoch: 9000, loss: 556.1344604492188\n"
     ]
    }
   ],
   "source": [
    "## 반복 학습\n",
    "# for epoch in range(10):\n",
    "# for epoch in range(1000):\n",
    "for epoch in range(10000):\n",
    "    # Forward pass: Compute predicted y by passing x to the model\n",
    "    pred_y = model(train_features_tensor)\n",
    "\n",
    "    # Compute and print loss\n",
    "    loss = criterion(pred_y, train_label_tensor)\n",
    "\n",
    "    optimizer.zero_grad()\n",
    "    loss.backward()\n",
    "    optimizer.step()\n",
    "    if epoch % 1000 == 0:\n",
    "      print('epoch: {}, loss: {}'.format(epoch, loss.item()))"
   ]
  },
  {
   "cell_type": "code",
   "execution_count": 12,
   "id": "afc5fa37",
   "metadata": {
    "execution": {
     "iopub.execute_input": "2025-02-03T08:20:20.819136Z",
     "iopub.status.busy": "2025-02-03T08:20:20.818817Z",
     "iopub.status.idle": "2025-02-03T08:20:20.824059Z",
     "shell.execute_reply": "2025-02-03T08:20:20.823302Z"
    },
    "papermill": {
     "duration": 0.013026,
     "end_time": "2025-02-03T08:20:20.825238",
     "exception": false,
     "start_time": "2025-02-03T08:20:20.812212",
     "status": "completed"
    },
    "tags": []
   },
   "outputs": [
    {
     "data": {
      "text/plain": [
       "odict_keys(['hidden_1.weight', 'hidden_1.bias', 'hidden_2.weight', 'hidden_2.bias', 'hidden_3.weight', 'hidden_3.bias', 'output.weight', 'output.bias'])"
      ]
     },
     "execution_count": 12,
     "metadata": {},
     "output_type": "execute_result"
    }
   ],
   "source": [
    "# 전체 weight와 bies\n",
    "# model.state_dict()\n",
    "model.state_dict().keys()"
   ]
  },
  {
   "cell_type": "code",
   "execution_count": 13,
   "id": "2390182c",
   "metadata": {
    "execution": {
     "iopub.execute_input": "2025-02-03T08:20:20.836649Z",
     "iopub.status.busy": "2025-02-03T08:20:20.836375Z",
     "iopub.status.idle": "2025-02-03T08:20:20.841285Z",
     "shell.execute_reply": "2025-02-03T08:20:20.840638Z"
    },
    "papermill": {
     "duration": 0.011576,
     "end_time": "2025-02-03T08:20:20.842490",
     "exception": false,
     "start_time": "2025-02-03T08:20:20.830914",
     "status": "completed"
    },
    "tags": []
   },
   "outputs": [
    {
     "data": {
      "text/plain": [
       "(torch.Size([64, 10]), torch.Size([64]))"
      ]
     },
     "execution_count": 13,
     "metadata": {},
     "output_type": "execute_result"
    }
   ],
   "source": [
    "model.state_dict()['hidden_1.weight'].shape, model.state_dict()['hidden_1.bias'].shape, "
   ]
  },
  {
   "cell_type": "code",
   "execution_count": 14,
   "id": "39e10b6f",
   "metadata": {
    "execution": {
     "iopub.execute_input": "2025-02-03T08:20:20.853808Z",
     "iopub.status.busy": "2025-02-03T08:20:20.853545Z",
     "iopub.status.idle": "2025-02-03T08:20:20.859022Z",
     "shell.execute_reply": "2025-02-03T08:20:20.858068Z"
    },
    "papermill": {
     "duration": 0.012845,
     "end_time": "2025-02-03T08:20:20.860642",
     "exception": false,
     "start_time": "2025-02-03T08:20:20.847797",
     "status": "completed"
    },
    "tags": []
   },
   "outputs": [
    {
     "data": {
      "text/plain": [
       "(torch.Size([32, 64]), torch.Size([32]))"
      ]
     },
     "execution_count": 14,
     "metadata": {},
     "output_type": "execute_result"
    }
   ],
   "source": [
    "model.state_dict()['hidden_2.weight'].shape, model.state_dict()['hidden_2.bias'].shape, "
   ]
  },
  {
   "cell_type": "code",
   "execution_count": 15,
   "id": "c0d18805",
   "metadata": {
    "execution": {
     "iopub.execute_input": "2025-02-03T08:20:20.873271Z",
     "iopub.status.busy": "2025-02-03T08:20:20.872979Z",
     "iopub.status.idle": "2025-02-03T08:20:20.878471Z",
     "shell.execute_reply": "2025-02-03T08:20:20.877670Z"
    },
    "papermill": {
     "duration": 0.013376,
     "end_time": "2025-02-03T08:20:20.879978",
     "exception": false,
     "start_time": "2025-02-03T08:20:20.866602",
     "status": "completed"
    },
    "tags": []
   },
   "outputs": [
    {
     "data": {
      "text/plain": [
       "(torch.Size([1, 16]), torch.Size([1]))"
      ]
     },
     "execution_count": 15,
     "metadata": {},
     "output_type": "execute_result"
    }
   ],
   "source": [
    "model.state_dict()['output.weight'].shape, model.state_dict()['output.bias'].shape, "
   ]
  },
  {
   "cell_type": "markdown",
   "id": "192d6afd",
   "metadata": {
    "id": "Vm7nLFcqJn6h",
    "papermill": {
     "duration": 0.005304,
     "end_time": "2025-02-03T08:20:20.891166",
     "exception": false,
     "start_time": "2025-02-03T08:20:20.885862",
     "status": "completed"
    },
    "tags": []
   },
   "source": [
    "## 모델 평가"
   ]
  },
  {
   "cell_type": "code",
   "execution_count": 16,
   "id": "bb2d688e",
   "metadata": {
    "execution": {
     "iopub.execute_input": "2025-02-03T08:20:20.903034Z",
     "iopub.status.busy": "2025-02-03T08:20:20.902717Z",
     "iopub.status.idle": "2025-02-03T08:20:20.908104Z",
     "shell.execute_reply": "2025-02-03T08:20:20.907165Z"
    },
    "id": "TcxYXQj2YojK",
    "outputId": "b216ed77-ae65-4995-c99f-8858c92b4136",
    "papermill": {
     "duration": 0.012949,
     "end_time": "2025-02-03T08:20:20.909443",
     "exception": false,
     "start_time": "2025-02-03T08:20:20.896494",
     "status": "completed"
    },
    "tags": []
   },
   "outputs": [
    {
     "data": {
      "text/plain": [
       "LinearRegressionNNM(\n",
       "  (hidden_1): Linear(in_features=10, out_features=64, bias=True)\n",
       "  (hidden_2): Linear(in_features=64, out_features=32, bias=True)\n",
       "  (hidden_3): Linear(in_features=32, out_features=16, bias=True)\n",
       "  (output): Linear(in_features=16, out_features=1, bias=True)\n",
       "  (relu): ReLU()\n",
       ")"
      ]
     },
     "execution_count": 16,
     "metadata": {},
     "output_type": "execute_result"
    }
   ],
   "source": [
    "model.eval()"
   ]
  },
  {
   "cell_type": "code",
   "execution_count": 17,
   "id": "d7dbf794",
   "metadata": {
    "execution": {
     "iopub.execute_input": "2025-02-03T08:20:20.922441Z",
     "iopub.status.busy": "2025-02-03T08:20:20.922147Z",
     "iopub.status.idle": "2025-02-03T08:20:20.927850Z",
     "shell.execute_reply": "2025-02-03T08:20:20.926970Z"
    },
    "id": "kZsIrHPnYsox",
    "outputId": "0d4c2cb2-9995-4f3c-d8ec-b51200d652db",
    "papermill": {
     "duration": 0.014186,
     "end_time": "2025-02-03T08:20:20.929255",
     "exception": false,
     "start_time": "2025-02-03T08:20:20.915069",
     "status": "completed"
    },
    "tags": []
   },
   "outputs": [
    {
     "name": "stdout",
     "output_type": "stream",
     "text": [
      "loss: 430.0226745605469\n"
     ]
    }
   ],
   "source": [
    "with torch.no_grad():   # 학습 목적 아닌 평가 목적 위해 고정\n",
    "    pred_y = model(train_features_tensor)\n",
    "    loss = criterion(pred_y, train_label_tensor)  # 예측도 같은 Loss function\n",
    "    print('loss: {}'.format(loss.item()))"
   ]
  },
  {
   "cell_type": "code",
   "execution_count": 18,
   "id": "44862ba8",
   "metadata": {
    "execution": {
     "iopub.execute_input": "2025-02-03T08:20:20.942953Z",
     "iopub.status.busy": "2025-02-03T08:20:20.942672Z",
     "iopub.status.idle": "2025-02-03T08:20:20.962052Z",
     "shell.execute_reply": "2025-02-03T08:20:20.961065Z"
    },
    "papermill": {
     "duration": 0.028295,
     "end_time": "2025-02-03T08:20:20.963609",
     "exception": false,
     "start_time": "2025-02-03T08:20:20.935314",
     "status": "completed"
    },
    "tags": []
   },
   "outputs": [
    {
     "data": {
      "text/plain": [
       "(tensor([126.3260]), 144.0)"
      ]
     },
     "execution_count": 18,
     "metadata": {},
     "output_type": "execute_result"
    }
   ],
   "source": [
    "# 결과 값(예측값, 원래값)\n",
    "pred_y[0], train_label[0]"
   ]
  },
  {
   "cell_type": "markdown",
   "id": "d4fb5cdb",
   "metadata": {
    "id": "AmEg3DFvJqlK",
    "papermill": {
     "duration": 0.006226,
     "end_time": "2025-02-03T08:20:20.976216",
     "exception": false,
     "start_time": "2025-02-03T08:20:20.969990",
     "status": "completed"
    },
    "tags": []
   },
   "source": [
    "## 모델 배포"
   ]
  },
  {
   "cell_type": "code",
   "execution_count": 19,
   "id": "1554c027",
   "metadata": {
    "execution": {
     "iopub.execute_input": "2025-02-03T08:20:20.990151Z",
     "iopub.status.busy": "2025-02-03T08:20:20.989832Z",
     "iopub.status.idle": "2025-02-03T08:20:20.996254Z",
     "shell.execute_reply": "2025-02-03T08:20:20.995469Z"
    },
    "id": "L1Hp5HyRI3ov",
    "papermill": {
     "duration": 0.015172,
     "end_time": "2025-02-03T08:20:20.997838",
     "exception": false,
     "start_time": "2025-02-03T08:20:20.982666",
     "status": "completed"
    },
    "tags": []
   },
   "outputs": [],
   "source": [
    "# 모델 weight와 bias 파일로 저장(checkpoints)\n",
    "torch.save(model.state_dict(), \"linear_regression_nnm.pth\")"
   ]
  },
  {
   "cell_type": "code",
   "execution_count": null,
   "id": "8aabbb4e",
   "metadata": {
    "papermill": {
     "duration": 0.00615,
     "end_time": "2025-02-03T08:20:21.010631",
     "exception": false,
     "start_time": "2025-02-03T08:20:21.004481",
     "status": "completed"
    },
    "tags": []
   },
   "outputs": [],
   "source": []
  }
 ],
 "metadata": {
  "colab": {
   "provenance": []
  },
  "kaggle": {
   "accelerator": "none",
   "dataSources": [],
   "dockerImageVersionId": 30839,
   "isGpuEnabled": false,
   "isInternetEnabled": false,
   "language": "python",
   "sourceType": "notebook"
  },
  "kernelspec": {
   "display_name": "Python 3",
   "language": "python",
   "name": "python3"
  },
  "language_info": {
   "codemirror_mode": {
    "name": "ipython",
    "version": 3
   },
   "file_extension": ".py",
   "mimetype": "text/x-python",
   "name": "python",
   "nbconvert_exporter": "python",
   "pygments_lexer": "ipython3",
   "version": "3.10.12"
  },
  "papermill": {
   "default_parameters": {},
   "duration": 29.429154,
   "end_time": "2025-02-03T08:20:22.740396",
   "environment_variables": {},
   "exception": null,
   "input_path": "__notebook__.ipynb",
   "output_path": "__notebook__.ipynb",
   "parameters": {},
   "start_time": "2025-02-03T08:19:53.311242",
   "version": "2.6.0"
  }
 },
 "nbformat": 4,
 "nbformat_minor": 5
}
