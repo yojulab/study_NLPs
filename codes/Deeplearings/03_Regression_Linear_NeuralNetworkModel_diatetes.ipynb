{
 "cells": [
  {
   "cell_type": "markdown",
   "id": "2fdf71a1",
   "metadata": {
    "id": "oq5l7PlCJHGK",
    "papermill": {
     "duration": 0.005382,
     "end_time": "2025-02-03T05:12:58.490913",
     "exception": false,
     "start_time": "2025-02-03T05:12:58.485531",
     "status": "completed"
    },
    "tags": []
   },
   "source": [
    "## 데이터수집"
   ]
  },
  {
   "cell_type": "code",
   "execution_count": 1,
   "id": "c7490f3c",
   "metadata": {
    "execution": {
     "iopub.execute_input": "2025-02-03T05:12:58.502688Z",
     "iopub.status.busy": "2025-02-03T05:12:58.502231Z",
     "iopub.status.idle": "2025-02-03T05:13:00.464356Z",
     "shell.execute_reply": "2025-02-03T05:13:00.463011Z"
    },
    "id": "WWqnlVD1Jzzr",
    "outputId": "b720360d-8452-4f42-f643-f7730c47e2fd",
    "papermill": {
     "duration": 1.969815,
     "end_time": "2025-02-03T05:13:00.466299",
     "exception": false,
     "start_time": "2025-02-03T05:12:58.496484",
     "status": "completed"
    },
    "tags": []
   },
   "outputs": [
    {
     "data": {
      "text/plain": [
       "((442, 10), (442,))"
      ]
     },
     "execution_count": 1,
     "metadata": {},
     "output_type": "execute_result"
    }
   ],
   "source": [
    "from sklearn.datasets import load_diabetes\n",
    "data_diabetes = load_diabetes()\n",
    "features, label = data_diabetes.data, data_diabetes.target\n",
    "features.shape, label.shape"
   ]
  },
  {
   "cell_type": "markdown",
   "id": "2d7922a2",
   "metadata": {
    "id": "5KcIOhMiJNKp",
    "papermill": {
     "duration": 0.004605,
     "end_time": "2025-02-03T05:13:00.476286",
     "exception": false,
     "start_time": "2025-02-03T05:13:00.471681",
     "status": "completed"
    },
    "tags": []
   },
   "source": [
    "## 데이터 전처리\n",
    "- 데이터 분석"
   ]
  },
  {
   "cell_type": "markdown",
   "id": "20f90fa7",
   "metadata": {
    "id": "zucSSN6sJWJC",
    "papermill": {
     "duration": 0.00487,
     "end_time": "2025-02-03T05:13:00.487296",
     "exception": false,
     "start_time": "2025-02-03T05:13:00.482426",
     "status": "completed"
    },
    "tags": []
   },
   "source": [
    "## 데이터 분할\n",
    "- train, test, validation"
   ]
  },
  {
   "cell_type": "code",
   "execution_count": 2,
   "id": "b65c37b2",
   "metadata": {
    "execution": {
     "iopub.execute_input": "2025-02-03T05:13:00.499652Z",
     "iopub.status.busy": "2025-02-03T05:13:00.499170Z",
     "iopub.status.idle": "2025-02-03T05:13:00.665230Z",
     "shell.execute_reply": "2025-02-03T05:13:00.664109Z"
    },
    "id": "H4Bwj5IvKsXq",
    "papermill": {
     "duration": 0.174602,
     "end_time": "2025-02-03T05:13:00.667579",
     "exception": false,
     "start_time": "2025-02-03T05:13:00.492977",
     "status": "completed"
    },
    "tags": []
   },
   "outputs": [],
   "source": [
    "from sklearn.model_selection import train_test_split\n",
    "train_features, test_features, train_label, test_label = train_test_split(features, label, test_size=0.2, random_state=42)"
   ]
  },
  {
   "cell_type": "code",
   "execution_count": 3,
   "id": "2a2e77dc",
   "metadata": {
    "execution": {
     "iopub.execute_input": "2025-02-03T05:13:00.678181Z",
     "iopub.status.busy": "2025-02-03T05:13:00.677825Z",
     "iopub.status.idle": "2025-02-03T05:13:05.530338Z",
     "shell.execute_reply": "2025-02-03T05:13:05.528528Z"
    },
    "id": "yuhS4Jc9LQbZ",
    "papermill": {
     "duration": 4.860572,
     "end_time": "2025-02-03T05:13:05.532982",
     "exception": false,
     "start_time": "2025-02-03T05:13:00.672410",
     "status": "completed"
    },
    "tags": []
   },
   "outputs": [],
   "source": [
    "import torch"
   ]
  },
  {
   "cell_type": "code",
   "execution_count": 4,
   "id": "3e180f47",
   "metadata": {
    "execution": {
     "iopub.execute_input": "2025-02-03T05:13:05.545165Z",
     "iopub.status.busy": "2025-02-03T05:13:05.544618Z",
     "iopub.status.idle": "2025-02-03T05:13:05.602087Z",
     "shell.execute_reply": "2025-02-03T05:13:05.600864Z"
    },
    "id": "t_YAJ9mELdpZ",
    "outputId": "c71d840d-763a-4497-b6c6-1e27a09e71c6",
    "papermill": {
     "duration": 0.066004,
     "end_time": "2025-02-03T05:13:05.603900",
     "exception": false,
     "start_time": "2025-02-03T05:13:05.537896",
     "status": "completed"
    },
    "tags": []
   },
   "outputs": [
    {
     "data": {
      "text/plain": [
       "(torch.Tensor, torch.Tensor, torch.Size([353, 1]))"
      ]
     },
     "execution_count": 4,
     "metadata": {},
     "output_type": "execute_result"
    }
   ],
   "source": [
    "train_features_tensor = torch.tensor(train_features, dtype=torch.float32)\n",
    "train_label_tensor = torch.tensor(train_label, dtype=torch.float32).view(-1, 1)    # 행렬 모양으로 변경\n",
    "# test_features_tensor = torch.tensor(test_features)\n",
    "# test_label_tensor = torch.tensor(test_label)\n",
    "type(train_features_tensor), type(train_label_tensor), train_label_tensor.shape"
   ]
  },
  {
   "cell_type": "markdown",
   "id": "ab4cfc7e",
   "metadata": {
    "id": "nATrFQ0EJjwJ",
    "papermill": {
     "duration": 0.004399,
     "end_time": "2025-02-03T05:13:05.613102",
     "exception": false,
     "start_time": "2025-02-03T05:13:05.608703",
     "status": "completed"
    },
    "tags": []
   },
   "source": [
    "## 모델 학습"
   ]
  },
  {
   "cell_type": "code",
   "execution_count": 5,
   "id": "391b2746",
   "metadata": {
    "collapsed": true,
    "execution": {
     "iopub.execute_input": "2025-02-03T05:13:05.623391Z",
     "iopub.status.busy": "2025-02-03T05:13:05.623013Z",
     "iopub.status.idle": "2025-02-03T05:13:05.678099Z",
     "shell.execute_reply": "2025-02-03T05:13:05.676895Z"
    },
    "jupyter": {
     "outputs_hidden": true
    },
    "papermill": {
     "duration": 0.06279,
     "end_time": "2025-02-03T05:13:05.680424",
     "exception": false,
     "start_time": "2025-02-03T05:13:05.617634",
     "status": "completed"
    },
    "tags": []
   },
   "outputs": [],
   "source": [
    "torch.nn.Module?"
   ]
  },
  {
   "cell_type": "code",
   "execution_count": 6,
   "id": "515e68a1",
   "metadata": {
    "execution": {
     "iopub.execute_input": "2025-02-03T05:13:05.693620Z",
     "iopub.status.busy": "2025-02-03T05:13:05.693136Z",
     "iopub.status.idle": "2025-02-03T05:13:05.700299Z",
     "shell.execute_reply": "2025-02-03T05:13:05.698677Z"
    },
    "id": "-pe2fsPfL9gp",
    "papermill": {
     "duration": 0.015455,
     "end_time": "2025-02-03T05:13:05.702264",
     "exception": false,
     "start_time": "2025-02-03T05:13:05.686809",
     "status": "completed"
    },
    "tags": []
   },
   "outputs": [],
   "source": [
    "# Neural Network model linear regression\n",
    "class LinearRegressionNNM(torch.nn.Module):\n",
    "    def __init__(self, input_dim):    # input_dim:features 열 갯수\n",
    "        super(LinearRegressionNNM, self).__init__()\n",
    "        # super(self).__init__()\n",
    "        self.hidden_1 = torch.nn.Linear(input_dim, 64)\n",
    "        self.hidden_2 = torch.nn.Linear(64, 32)\n",
    "        self.hidden_3 = torch.nn.Linear(32, 16)\n",
    "        self.output = torch.nn.Linear(16, 1)\n",
    "        self.relu = torch.nn.ReLU()  # Activation function\n",
    "\n",
    "    def forward(self, x):\n",
    "        x = self.relu(self.hidden_1(x))  # hidden layer 1\n",
    "        x = self.relu(self.hidden_2(x))  # hidden layer 2\n",
    "        x = self.relu(self.hidden_3(x))  # hidden layer 3\n",
    "        out = self.output(x)   # result\n",
    "        return out\n"
   ]
  },
  {
   "cell_type": "code",
   "execution_count": 7,
   "id": "1300454c",
   "metadata": {
    "execution": {
     "iopub.execute_input": "2025-02-03T05:13:05.712763Z",
     "iopub.status.busy": "2025-02-03T05:13:05.712404Z",
     "iopub.status.idle": "2025-02-03T05:13:05.718602Z",
     "shell.execute_reply": "2025-02-03T05:13:05.717202Z"
    },
    "id": "gJRMFMXjOToZ",
    "outputId": "eff5c085-ceb2-462a-975f-ef6f08e71131",
    "papermill": {
     "duration": 0.014137,
     "end_time": "2025-02-03T05:13:05.721082",
     "exception": false,
     "start_time": "2025-02-03T05:13:05.706945",
     "status": "completed"
    },
    "tags": []
   },
   "outputs": [
    {
     "data": {
      "text/plain": [
       "(torch.Size([353, 10]), torch.Size([353, 1]))"
      ]
     },
     "execution_count": 7,
     "metadata": {},
     "output_type": "execute_result"
    }
   ],
   "source": [
    "train_features_tensor.shape, train_label_tensor.shape"
   ]
  },
  {
   "cell_type": "code",
   "execution_count": 8,
   "id": "59a9f58f",
   "metadata": {
    "execution": {
     "iopub.execute_input": "2025-02-03T05:13:05.732302Z",
     "iopub.status.busy": "2025-02-03T05:13:05.731908Z",
     "iopub.status.idle": "2025-02-03T05:13:05.747645Z",
     "shell.execute_reply": "2025-02-03T05:13:05.746492Z"
    },
    "id": "N6dfYfN9OKVZ",
    "papermill": {
     "duration": 0.023872,
     "end_time": "2025-02-03T05:13:05.750022",
     "exception": false,
     "start_time": "2025-02-03T05:13:05.726150",
     "status": "completed"
    },
    "tags": []
   },
   "outputs": [],
   "source": [
    "model = LinearRegressionNNM(10)"
   ]
  },
  {
   "cell_type": "code",
   "execution_count": 9,
   "id": "deb68567",
   "metadata": {
    "execution": {
     "iopub.execute_input": "2025-02-03T05:13:05.760598Z",
     "iopub.status.busy": "2025-02-03T05:13:05.760269Z",
     "iopub.status.idle": "2025-02-03T05:13:05.765822Z",
     "shell.execute_reply": "2025-02-03T05:13:05.764857Z"
    },
    "id": "Vu7UEFjrPNGR",
    "outputId": "2459ef1f-9b7b-4392-90db-0c868ab350f4",
    "papermill": {
     "duration": 0.01265,
     "end_time": "2025-02-03T05:13:05.767443",
     "exception": false,
     "start_time": "2025-02-03T05:13:05.754793",
     "status": "completed"
    },
    "tags": []
   },
   "outputs": [
    {
     "data": {
      "text/plain": [
       "LinearRegressionNNM(\n",
       "  (hidden_1): Linear(in_features=10, out_features=64, bias=True)\n",
       "  (hidden_2): Linear(in_features=64, out_features=32, bias=True)\n",
       "  (hidden_3): Linear(in_features=32, out_features=16, bias=True)\n",
       "  (output): Linear(in_features=16, out_features=1, bias=True)\n",
       "  (relu): ReLU()\n",
       ")"
      ]
     },
     "execution_count": 9,
     "metadata": {},
     "output_type": "execute_result"
    }
   ],
   "source": [
    "model"
   ]
  },
  {
   "cell_type": "code",
   "execution_count": 10,
   "id": "be1ba2c9",
   "metadata": {
    "execution": {
     "iopub.execute_input": "2025-02-03T05:13:05.779214Z",
     "iopub.status.busy": "2025-02-03T05:13:05.778795Z",
     "iopub.status.idle": "2025-02-03T05:13:11.237491Z",
     "shell.execute_reply": "2025-02-03T05:13:11.236178Z"
    },
    "id": "PkH3WN7eVZE6",
    "papermill": {
     "duration": 5.467297,
     "end_time": "2025-02-03T05:13:11.239987",
     "exception": false,
     "start_time": "2025-02-03T05:13:05.772690",
     "status": "completed"
    },
    "tags": []
   },
   "outputs": [],
   "source": [
    "criterion = torch.nn.MSELoss()  # Loss function\n",
    "# optimizer = torch.optim.SGD(model.parameters(), lr=0.01)  # optimizer function\n",
    "optimizer = torch.optim.Adam(model.parameters(), lr=0.001)  # optimizer function"
   ]
  },
  {
   "cell_type": "code",
   "execution_count": 11,
   "id": "4c5e6744",
   "metadata": {
    "execution": {
     "iopub.execute_input": "2025-02-03T05:13:11.254468Z",
     "iopub.status.busy": "2025-02-03T05:13:11.253948Z",
     "iopub.status.idle": "2025-02-03T05:13:30.606974Z",
     "shell.execute_reply": "2025-02-03T05:13:30.605391Z"
    },
    "id": "fAp4BWFOWpvJ",
    "outputId": "c011f3aa-ea92-4172-8073-244b0321a5e7",
    "papermill": {
     "duration": 19.362485,
     "end_time": "2025-02-03T05:13:30.609346",
     "exception": false,
     "start_time": "2025-02-03T05:13:11.246861",
     "status": "completed"
    },
    "tags": []
   },
   "outputs": [
    {
     "name": "stdout",
     "output_type": "stream",
     "text": [
      "epoch: 0, loss: 29635.84765625\n",
      "epoch: 1000, loss: 3007.262451171875\n",
      "epoch: 2000, loss: 2884.689208984375\n",
      "epoch: 3000, loss: 2821.830322265625\n",
      "epoch: 4000, loss: 2736.82373046875\n",
      "epoch: 5000, loss: 2475.57763671875\n",
      "epoch: 6000, loss: 2051.194091796875\n",
      "epoch: 7000, loss: 1562.3109130859375\n",
      "epoch: 8000, loss: 1098.94921875\n",
      "epoch: 9000, loss: 811.5349731445312\n"
     ]
    }
   ],
   "source": [
    "## 반복 학습\n",
    "# for epoch in range(10):\n",
    "# for epoch in range(1000):\n",
    "for epoch in range(10000):\n",
    "    # Forward pass: Compute predicted y by passing x to the model\n",
    "    pred_y = model(train_features_tensor)\n",
    "\n",
    "    # Compute and print loss\n",
    "    loss = criterion(pred_y, train_label_tensor)\n",
    "\n",
    "    optimizer.zero_grad()\n",
    "    loss.backward()\n",
    "    optimizer.step()\n",
    "    if epoch % 1000 == 0:\n",
    "      print('epoch: {}, loss: {}'.format(epoch, loss.item()))"
   ]
  },
  {
   "cell_type": "markdown",
   "id": "1e72ea17",
   "metadata": {
    "id": "Vm7nLFcqJn6h",
    "papermill": {
     "duration": 0.005937,
     "end_time": "2025-02-03T05:13:30.621175",
     "exception": false,
     "start_time": "2025-02-03T05:13:30.615238",
     "status": "completed"
    },
    "tags": []
   },
   "source": [
    "## 모델 평가"
   ]
  },
  {
   "cell_type": "code",
   "execution_count": 12,
   "id": "c7d5654b",
   "metadata": {
    "execution": {
     "iopub.execute_input": "2025-02-03T05:13:30.639521Z",
     "iopub.status.busy": "2025-02-03T05:13:30.639132Z",
     "iopub.status.idle": "2025-02-03T05:13:30.652591Z",
     "shell.execute_reply": "2025-02-03T05:13:30.650933Z"
    },
    "id": "TcxYXQj2YojK",
    "outputId": "b216ed77-ae65-4995-c99f-8858c92b4136",
    "papermill": {
     "duration": 0.028987,
     "end_time": "2025-02-03T05:13:30.660841",
     "exception": false,
     "start_time": "2025-02-03T05:13:30.631854",
     "status": "completed"
    },
    "tags": []
   },
   "outputs": [
    {
     "data": {
      "text/plain": [
       "LinearRegressionNNM(\n",
       "  (hidden_1): Linear(in_features=10, out_features=64, bias=True)\n",
       "  (hidden_2): Linear(in_features=64, out_features=32, bias=True)\n",
       "  (hidden_3): Linear(in_features=32, out_features=16, bias=True)\n",
       "  (output): Linear(in_features=16, out_features=1, bias=True)\n",
       "  (relu): ReLU()\n",
       ")"
      ]
     },
     "execution_count": 12,
     "metadata": {},
     "output_type": "execute_result"
    }
   ],
   "source": [
    "model.eval()"
   ]
  },
  {
   "cell_type": "code",
   "execution_count": 13,
   "id": "abb8117e",
   "metadata": {
    "execution": {
     "iopub.execute_input": "2025-02-03T05:13:30.680059Z",
     "iopub.status.busy": "2025-02-03T05:13:30.679662Z",
     "iopub.status.idle": "2025-02-03T05:13:30.688533Z",
     "shell.execute_reply": "2025-02-03T05:13:30.687025Z"
    },
    "id": "kZsIrHPnYsox",
    "outputId": "0d4c2cb2-9995-4f3c-d8ec-b51200d652db",
    "papermill": {
     "duration": 0.018126,
     "end_time": "2025-02-03T05:13:30.690975",
     "exception": false,
     "start_time": "2025-02-03T05:13:30.672849",
     "status": "completed"
    },
    "tags": []
   },
   "outputs": [
    {
     "name": "stdout",
     "output_type": "stream",
     "text": [
      "loss: 600.8583374023438\n"
     ]
    }
   ],
   "source": [
    "with torch.no_grad():   # 학습 목적 아닌 평가 목적 위해 고정\n",
    "    pred_y = model(train_features_tensor)\n",
    "    loss = criterion(pred_y, train_label_tensor)  # 예측도 같은 Loss function\n",
    "    print('loss: {}'.format(loss.item()))"
   ]
  },
  {
   "cell_type": "code",
   "execution_count": 14,
   "id": "dceb3785",
   "metadata": {
    "execution": {
     "iopub.execute_input": "2025-02-03T05:13:30.706298Z",
     "iopub.status.busy": "2025-02-03T05:13:30.705948Z",
     "iopub.status.idle": "2025-02-03T05:13:30.737516Z",
     "shell.execute_reply": "2025-02-03T05:13:30.735770Z"
    },
    "papermill": {
     "duration": 0.041162,
     "end_time": "2025-02-03T05:13:30.739663",
     "exception": false,
     "start_time": "2025-02-03T05:13:30.698501",
     "status": "completed"
    },
    "tags": []
   },
   "outputs": [
    {
     "data": {
      "text/plain": [
       "(tensor([154.5724]), 144.0)"
      ]
     },
     "execution_count": 14,
     "metadata": {},
     "output_type": "execute_result"
    }
   ],
   "source": [
    "# 결과 값(예측값, 원래값)\n",
    "pred_y[0], train_label[0]"
   ]
  },
  {
   "cell_type": "markdown",
   "id": "006fc59e",
   "metadata": {
    "id": "AmEg3DFvJqlK",
    "papermill": {
     "duration": 0.005355,
     "end_time": "2025-02-03T05:13:30.751264",
     "exception": false,
     "start_time": "2025-02-03T05:13:30.745909",
     "status": "completed"
    },
    "tags": []
   },
   "source": [
    "## 모델 배포"
   ]
  },
  {
   "cell_type": "code",
   "execution_count": null,
   "id": "911bd095",
   "metadata": {
    "id": "L1Hp5HyRI3ov",
    "papermill": {
     "duration": 0.005509,
     "end_time": "2025-02-03T05:13:30.762887",
     "exception": false,
     "start_time": "2025-02-03T05:13:30.757378",
     "status": "completed"
    },
    "tags": []
   },
   "outputs": [],
   "source": []
  }
 ],
 "metadata": {
  "colab": {
   "provenance": []
  },
  "kaggle": {
   "accelerator": "none",
   "dataSources": [],
   "dockerImageVersionId": 30839,
   "isGpuEnabled": false,
   "isInternetEnabled": false,
   "language": "python",
   "sourceType": "notebook"
  },
  "kernelspec": {
   "display_name": "Python 3",
   "language": "python",
   "name": "python3"
  },
  "language_info": {
   "codemirror_mode": {
    "name": "ipython",
    "version": 3
   },
   "file_extension": ".py",
   "mimetype": "text/x-python",
   "name": "python",
   "nbconvert_exporter": "python",
   "pygments_lexer": "ipython3",
   "version": "3.10.12"
  },
  "papermill": {
   "default_parameters": {},
   "duration": 37.625404,
   "end_time": "2025-02-03T05:13:32.695302",
   "environment_variables": {},
   "exception": null,
   "input_path": "__notebook__.ipynb",
   "output_path": "__notebook__.ipynb",
   "parameters": {},
   "start_time": "2025-02-03T05:12:55.069898",
   "version": "2.6.0"
  }
 },
 "nbformat": 4,
 "nbformat_minor": 5
}
