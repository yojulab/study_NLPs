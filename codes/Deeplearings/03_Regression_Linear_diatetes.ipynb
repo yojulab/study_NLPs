{
  "nbformat": 4,
  "nbformat_minor": 0,
  "metadata": {
    "colab": {
      "provenance": [],
      "authorship_tag": "ABX9TyPpSy0nLmP6+SKn8CVuiDZ7",
      "include_colab_link": true
    },
    "kernelspec": {
      "name": "python3",
      "display_name": "Python 3"
    },
    "language_info": {
      "name": "python"
    }
  },
  "cells": [
    {
      "cell_type": "markdown",
      "metadata": {
        "id": "view-in-github",
        "colab_type": "text"
      },
      "source": [
        "<a href=\"https://colab.research.google.com/github/yojulab/study_NLPs/blob/main/codes/Deeplearings/03_Regression_Linear_diatetes.ipynb\" target=\"_parent\"><img src=\"https://colab.research.google.com/assets/colab-badge.svg\" alt=\"Open In Colab\"/></a>"
      ]
    },
    {
      "cell_type": "markdown",
      "source": [
        "## 데이터수집"
      ],
      "metadata": {
        "id": "oq5l7PlCJHGK"
      }
    },
    {
      "cell_type": "code",
      "source": [
        "from sklearn.datasets import load_diabetes\n",
        "data_diabetes = load_diabetes()\n",
        "features, label = data_diabetes.data, data_diabetes.target\n",
        "features.shape, label.shape"
      ],
      "metadata": {
        "id": "WWqnlVD1Jzzr",
        "colab": {
          "base_uri": "https://localhost:8080/"
        },
        "outputId": "b720360d-8452-4f42-f643-f7730c47e2fd"
      },
      "execution_count": null,
      "outputs": [
        {
          "output_type": "execute_result",
          "data": {
            "text/plain": [
              "((442, 10), (442,))"
            ]
          },
          "metadata": {},
          "execution_count": 19
        }
      ]
    },
    {
      "cell_type": "markdown",
      "source": [
        "## 데이터 전처리\n",
        "- 데이터 분석"
      ],
      "metadata": {
        "id": "5KcIOhMiJNKp"
      }
    },
    {
      "cell_type": "markdown",
      "source": [
        "## 데이터 분할\n",
        "- train, test, validation"
      ],
      "metadata": {
        "id": "zucSSN6sJWJC"
      }
    },
    {
      "cell_type": "code",
      "source": [
        "from sklearn.model_selection import train_test_split\n",
        "train_features, test_features, train_label, test_label = train_test_split(features, label, test_size=0.2, random_state=42)"
      ],
      "metadata": {
        "id": "H4Bwj5IvKsXq"
      },
      "execution_count": null,
      "outputs": []
    },
    {
      "cell_type": "code",
      "source": [
        "import torch"
      ],
      "metadata": {
        "id": "yuhS4Jc9LQbZ"
      },
      "execution_count": null,
      "outputs": []
    },
    {
      "cell_type": "code",
      "source": [
        "train_features_tensor = torch.tensor(train_features, dtype=torch.float32)\n",
        "train_label_tensor = torch.tensor(train_label, dtype=torch.float32).view(-1, 1)    # 행렬 모양으로 변경\n",
        "# test_features_tensor = torch.tensor(test_features)\n",
        "# test_label_tensor = torch.tensor(test_label)\n",
        "type(train_features_tensor), type(train_label_tensor), train_label_tensor.shape"
      ],
      "metadata": {
        "colab": {
          "base_uri": "https://localhost:8080/"
        },
        "id": "t_YAJ9mELdpZ",
        "outputId": "c71d840d-763a-4497-b6c6-1e27a09e71c6"
      },
      "execution_count": null,
      "outputs": [
        {
          "output_type": "execute_result",
          "data": {
            "text/plain": [
              "(torch.Tensor, torch.Tensor, torch.Size([353, 1]))"
            ]
          },
          "metadata": {},
          "execution_count": 22
        }
      ]
    },
    {
      "cell_type": "markdown",
      "source": [
        "## 모델 학습"
      ],
      "metadata": {
        "id": "nATrFQ0EJjwJ"
      }
    },
    {
      "cell_type": "code",
      "source": [
        "# simple model linear regression\n",
        "class LinearRegression(torch.nn.Module):\n",
        "    def __init__(self, input_dim, output_dim):    # input_dim:features 열 갯수,  output_dim:label 카테고리 갯수\n",
        "        super(LinearRegression, self).__init__()\n",
        "        self.linear = torch.nn.Linear(input_dim, output_dim)\n",
        "\n",
        "    def forward(self, x):\n",
        "        out = self.linear(x)\n",
        "        return out\n"
      ],
      "metadata": {
        "id": "-pe2fsPfL9gp"
      },
      "execution_count": null,
      "outputs": []
    },
    {
      "cell_type": "code",
      "source": [
        "train_features_tensor.shape, train_label_tensor.shape"
      ],
      "metadata": {
        "colab": {
          "base_uri": "https://localhost:8080/"
        },
        "id": "gJRMFMXjOToZ",
        "outputId": "eff5c085-ceb2-462a-975f-ef6f08e71131"
      },
      "execution_count": null,
      "outputs": [
        {
          "output_type": "execute_result",
          "data": {
            "text/plain": [
              "(torch.Size([353, 10]), torch.Size([353, 1]))"
            ]
          },
          "metadata": {},
          "execution_count": 24
        }
      ]
    },
    {
      "cell_type": "code",
      "source": [
        "model = LinearRegression(10, train_label_tensor.shape[1])"
      ],
      "metadata": {
        "id": "N6dfYfN9OKVZ"
      },
      "execution_count": null,
      "outputs": []
    },
    {
      "cell_type": "code",
      "source": [
        "model"
      ],
      "metadata": {
        "colab": {
          "base_uri": "https://localhost:8080/"
        },
        "id": "Vu7UEFjrPNGR",
        "outputId": "2459ef1f-9b7b-4392-90db-0c868ab350f4"
      },
      "execution_count": null,
      "outputs": [
        {
          "output_type": "execute_result",
          "data": {
            "text/plain": [
              "LinearRegression(\n",
              "  (linear): Linear(in_features=10, out_features=1, bias=True)\n",
              ")"
            ]
          },
          "metadata": {},
          "execution_count": 26
        }
      ]
    },
    {
      "cell_type": "code",
      "source": [
        "criterion = torch.nn.MSELoss()  # Loss function\n",
        "optimizer = torch.optim.SGD(model.parameters(), lr=0.01)  # optimizer function"
      ],
      "metadata": {
        "id": "PkH3WN7eVZE6"
      },
      "execution_count": null,
      "outputs": []
    },
    {
      "cell_type": "code",
      "source": [
        "## 반복 학습\n",
        "# for epoch in range(10):\n",
        "for epoch in range(1000):\n",
        "    # Forward pass: Compute predicted y by passing x to the model\n",
        "    pred_y = model(train_features_tensor)\n",
        "\n",
        "    # Compute and print loss\n",
        "    loss = criterion(pred_y, train_label_tensor)\n",
        "\n",
        "    optimizer.zero_grad()\n",
        "    loss.backward()\n",
        "    optimizer.step()\n",
        "    if epoch % 100 == 0:\n",
        "      print('epoch: {}, loss: {}'.format(epoch, loss.item()))"
      ],
      "metadata": {
        "colab": {
          "base_uri": "https://localhost:8080/"
        },
        "id": "fAp4BWFOWpvJ",
        "outputId": "c011f3aa-ea92-4172-8073-244b0321a5e7"
      },
      "execution_count": null,
      "outputs": [
        {
          "output_type": "stream",
          "name": "stdout",
          "text": [
            "epoch: 0, loss: 21868.6484375\n",
            "epoch: 100, loss: 6264.7890625\n",
            "epoch: 200, loss: 5915.6796875\n",
            "epoch: 300, loss: 5837.17578125\n",
            "epoch: 400, loss: 5765.67333984375\n",
            "epoch: 500, loss: 5696.4619140625\n",
            "epoch: 600, loss: 5629.38330078125\n",
            "epoch: 700, loss: 5564.3642578125\n",
            "epoch: 800, loss: 5501.33447265625\n",
            "epoch: 900, loss: 5440.22802734375\n"
          ]
        }
      ]
    },
    {
      "cell_type": "markdown",
      "source": [
        "## 모델 평가"
      ],
      "metadata": {
        "id": "Vm7nLFcqJn6h"
      }
    },
    {
      "cell_type": "code",
      "source": [
        "model.eval()"
      ],
      "metadata": {
        "colab": {
          "base_uri": "https://localhost:8080/"
        },
        "id": "TcxYXQj2YojK",
        "outputId": "b216ed77-ae65-4995-c99f-8858c92b4136"
      },
      "execution_count": null,
      "outputs": [
        {
          "output_type": "execute_result",
          "data": {
            "text/plain": [
              "LinearRegression(\n",
              "  (linear): Linear(in_features=10, out_features=1, bias=True)\n",
              ")"
            ]
          },
          "metadata": {},
          "execution_count": 30
        }
      ]
    },
    {
      "cell_type": "code",
      "source": [
        "with torch.no_grad():   # 학습 목적 아닌 평가 목적 위해 고정\n",
        "    pred_y = model(train_features_tensor)\n",
        "    loss = criterion(pred_y, train_label_tensor)  # 예측도 같은 Loss function\n",
        "    print('loss: {}'.format(loss.item()))"
      ],
      "metadata": {
        "colab": {
          "base_uri": "https://localhost:8080/"
        },
        "id": "kZsIrHPnYsox",
        "outputId": "0d4c2cb2-9995-4f3c-d8ec-b51200d652db"
      },
      "execution_count": null,
      "outputs": [
        {
          "output_type": "stream",
          "name": "stdout",
          "text": [
            "loss: 5380.97998046875\n"
          ]
        }
      ]
    },
    {
      "cell_type": "markdown",
      "source": [
        "## 모델 배포"
      ],
      "metadata": {
        "id": "AmEg3DFvJqlK"
      }
    },
    {
      "cell_type": "code",
      "execution_count": null,
      "metadata": {
        "id": "L1Hp5HyRI3ov"
      },
      "outputs": [],
      "source": []
    }
  ]
}