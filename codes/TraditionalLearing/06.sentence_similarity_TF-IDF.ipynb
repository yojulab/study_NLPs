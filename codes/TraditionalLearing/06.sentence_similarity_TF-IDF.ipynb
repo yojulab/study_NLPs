{
 "cells": [
  {
   "cell_type": "markdown",
   "metadata": {},
   "source": [
    "## TF-IDF 사용 문장 유사도 작성"
   ]
  },
  {
   "cell_type": "code",
   "execution_count": 1,
   "metadata": {},
   "outputs": [],
   "source": [
    "it_sentences = [\n",
    "    \"인공지능 기술이 사회의 다양한 분야에 점점 더 널리 적용되고 있다.\",\n",
    "    \"클라우드 컴퓨팅은 데이터 저장과 처리를 더욱 효율적으로 만들어 주며, 기업의 IT 인프라를 혁신하고 있다.\",\n",
    "    \"머신러닝과 딥러닝 알고리즘은 데이터 분석과 예측 모델링에 혁명을 일으키고 있다.\",\n",
    "    \"블록체인 기술은 금융 거래의 투명성과 보안성을 향상시키는데 기여하고 있다.\",\n",
    "    # \"사이버 보안은 디지털 시대의 중요한 이슈로 부상하고 있으며, 지속적인 관심과 개선이 요구된다.\",\n",
    "    # \"소프트웨어 개발에서의 애자일 방법론은 빠른 시장 변화에 효과적으로 대응할 수 있게 해준다.\",\n",
    "    # \"데이터 과학과 분석은 비즈니스 의사 결정 과정에서 중요한 역할을 하며, 기업의 경쟁력을 강화시킨다.\",\n",
    "    # \"사물인터넷(IoT) 기술은 일상 생활을 더욱 편리하고 연결된 공간으로 변화시키고 있다.\",\n",
    "    # \"가상현실(VR)과 증강현실(AR) 기술은 엔터테인먼트, 교육, 의료 등 다양한 분야에서 새로운 경험을 제공한다.\",\n",
    "    # \"파이썬은 데이터 과학, 웹 개발, 자동화 스크립트 작성 등 다양한 프로그래밍 작업에 널리 사용되는 언어이다.\"\n",
    "]"
   ]
  },
  {
   "cell_type": "code",
   "execution_count": 2,
   "metadata": {},
   "outputs": [],
   "source": [
    "from sklearn.feature_extraction.text import TfidfVectorizer # word embedding\n",
    "tfidfVectorizer = TfidfVectorizer()\n",
    "tfidfVectorizer.fit(it_sentences)   # 학습용\n",
    "result_vectors = tfidfVectorizer.transform(it_sentences) # 서비스용"
   ]
  },
  {
   "cell_type": "code",
   "execution_count": 3,
   "metadata": {},
   "outputs": [
    {
     "data": {
      "text/plain": [
       "((4, 38), (38,))"
      ]
     },
     "execution_count": 3,
     "metadata": {},
     "output_type": "execute_result"
    }
   ],
   "source": [
    "result_vectors.toarray().shape, tfidfVectorizer.get_feature_names_out().shape"
   ]
  },
  {
   "cell_type": "code",
   "execution_count": 5,
   "metadata": {},
   "outputs": [
    {
     "data": {
      "text/plain": [
       "array([[1.        , 0.02636764, 0.03174806, 0.03291925],\n",
       "       [0.02636764, 1.        , 0.08347485, 0.02636764],\n",
       "       [0.03174806, 0.08347485, 1.        , 0.03174806],\n",
       "       [0.03291925, 0.02636764, 0.03174806, 1.        ]])"
      ]
     },
     "execution_count": 5,
     "metadata": {},
     "output_type": "execute_result"
    }
   ],
   "source": [
    "## 문장간 유사도 측정\n",
    "from sklearn.metrics.pairwise import cosine_similarity\n",
    "df_similarity = cosine_similarity(result_vectors, result_vectors)\n",
    "df_similarity"
   ]
  },
  {
   "cell_type": "code",
   "execution_count": 6,
   "metadata": {},
   "outputs": [
    {
     "data": {
      "text/html": [
       "<div>\n",
       "<style scoped>\n",
       "    .dataframe tbody tr th:only-of-type {\n",
       "        vertical-align: middle;\n",
       "    }\n",
       "\n",
       "    .dataframe tbody tr th {\n",
       "        vertical-align: top;\n",
       "    }\n",
       "\n",
       "    .dataframe thead th {\n",
       "        text-align: right;\n",
       "    }\n",
       "</style>\n",
       "<table border=\"1\" class=\"dataframe\">\n",
       "  <thead>\n",
       "    <tr style=\"text-align: right;\">\n",
       "      <th></th>\n",
       "      <th>인공지능 기술이 사회의 다양한 분야에 점점 더 널리 적용되고 있다.</th>\n",
       "      <th>클라우드 컴퓨팅은 데이터 저장과 처리를 더욱 효율적으로 만들어 주며, 기업의 IT 인프라를 혁신하고 있다.</th>\n",
       "      <th>머신러닝과 딥러닝 알고리즘은 데이터 분석과 예측 모델링에 혁명을 일으키고 있다.</th>\n",
       "      <th>블록체인 기술은 금융 거래의 투명성과 보안성을 향상시키는데 기여하고 있다.</th>\n",
       "    </tr>\n",
       "  </thead>\n",
       "  <tbody>\n",
       "    <tr>\n",
       "      <th>인공지능 기술이 사회의 다양한 분야에 점점 더 널리 적용되고 있다.</th>\n",
       "      <td>1.000000</td>\n",
       "      <td>0.026368</td>\n",
       "      <td>0.031748</td>\n",
       "      <td>0.032919</td>\n",
       "    </tr>\n",
       "    <tr>\n",
       "      <th>클라우드 컴퓨팅은 데이터 저장과 처리를 더욱 효율적으로 만들어 주며, 기업의 IT 인프라를 혁신하고 있다.</th>\n",
       "      <td>0.026368</td>\n",
       "      <td>1.000000</td>\n",
       "      <td>0.083475</td>\n",
       "      <td>0.026368</td>\n",
       "    </tr>\n",
       "    <tr>\n",
       "      <th>머신러닝과 딥러닝 알고리즘은 데이터 분석과 예측 모델링에 혁명을 일으키고 있다.</th>\n",
       "      <td>0.031748</td>\n",
       "      <td>0.083475</td>\n",
       "      <td>1.000000</td>\n",
       "      <td>0.031748</td>\n",
       "    </tr>\n",
       "    <tr>\n",
       "      <th>블록체인 기술은 금융 거래의 투명성과 보안성을 향상시키는데 기여하고 있다.</th>\n",
       "      <td>0.032919</td>\n",
       "      <td>0.026368</td>\n",
       "      <td>0.031748</td>\n",
       "      <td>1.000000</td>\n",
       "    </tr>\n",
       "  </tbody>\n",
       "</table>\n",
       "</div>"
      ],
      "text/plain": [
       "                                                    인공지능 기술이 사회의 다양한 분야에 점점 더 널리 적용되고 있다.  \\\n",
       "인공지능 기술이 사회의 다양한 분야에 점점 더 널리 적용되고 있다.                                            1.000000   \n",
       "클라우드 컴퓨팅은 데이터 저장과 처리를 더욱 효율적으로 만들어 주며, 기업의 IT 인...                               0.026368   \n",
       "머신러닝과 딥러닝 알고리즘은 데이터 분석과 예측 모델링에 혁명을 일으키고 있다.                                     0.031748   \n",
       "블록체인 기술은 금융 거래의 투명성과 보안성을 향상시키는데 기여하고 있다.                                        0.032919   \n",
       "\n",
       "                                                    클라우드 컴퓨팅은 데이터 저장과 처리를 더욱 효율적으로 만들어 주며, 기업의 IT 인프라를 혁신하고 있다.  \\\n",
       "인공지능 기술이 사회의 다양한 분야에 점점 더 널리 적용되고 있다.                                                        0.026368             \n",
       "클라우드 컴퓨팅은 데이터 저장과 처리를 더욱 효율적으로 만들어 주며, 기업의 IT 인...                                           1.000000             \n",
       "머신러닝과 딥러닝 알고리즘은 데이터 분석과 예측 모델링에 혁명을 일으키고 있다.                                                 0.083475             \n",
       "블록체인 기술은 금융 거래의 투명성과 보안성을 향상시키는데 기여하고 있다.                                                    0.026368             \n",
       "\n",
       "                                                    머신러닝과 딥러닝 알고리즘은 데이터 분석과 예측 모델링에 혁명을 일으키고 있다.  \\\n",
       "인공지능 기술이 사회의 다양한 분야에 점점 더 널리 적용되고 있다.                                                   0.031748   \n",
       "클라우드 컴퓨팅은 데이터 저장과 처리를 더욱 효율적으로 만들어 주며, 기업의 IT 인...                                      0.083475   \n",
       "머신러닝과 딥러닝 알고리즘은 데이터 분석과 예측 모델링에 혁명을 일으키고 있다.                                            1.000000   \n",
       "블록체인 기술은 금융 거래의 투명성과 보안성을 향상시키는데 기여하고 있다.                                               0.031748   \n",
       "\n",
       "                                                    블록체인 기술은 금융 거래의 투명성과 보안성을 향상시키는데 기여하고 있다.  \n",
       "인공지능 기술이 사회의 다양한 분야에 점점 더 널리 적용되고 있다.                                                0.032919  \n",
       "클라우드 컴퓨팅은 데이터 저장과 처리를 더욱 효율적으로 만들어 주며, 기업의 IT 인...                                   0.026368  \n",
       "머신러닝과 딥러닝 알고리즘은 데이터 분석과 예측 모델링에 혁명을 일으키고 있다.                                         0.031748  \n",
       "블록체인 기술은 금융 거래의 투명성과 보안성을 향상시키는데 기여하고 있다.                                            1.000000  "
      ]
     },
     "execution_count": 6,
     "metadata": {},
     "output_type": "execute_result"
    }
   ],
   "source": [
    "import pandas as pd\n",
    "pd.DataFrame(data=df_similarity\n",
    "             , index=it_sentences\n",
    "             , columns=it_sentences)"
   ]
  },
  {
   "cell_type": "code",
   "execution_count": 10,
   "metadata": {},
   "outputs": [
    {
     "data": {
      "text/plain": [
       "<1x38 sparse matrix of type '<class 'numpy.float64'>'\n",
       "\twith 6 stored elements in Compressed Sparse Row format>"
      ]
     },
     "execution_count": 10,
     "metadata": {},
     "output_type": "execute_result"
    }
   ],
   "source": [
    "# new_sentence = '사이버 보안은 디지털 시대의 중요한 이슈로 부상하고 있으며, 지속적인 관심과 개선이 요구된다.'\n",
    "new_sentence = '클라우드 컴퓨팅은 데이터 저장과 처리를 더욱 효율적이다.'\n",
    "\n",
    "new_tfidfVectorizer = tfidfVectorizer.transform([new_sentence]) # vocablary 기준 임베팅 변환\n",
    "new_tfidfVectorizer"
   ]
  },
  {
   "cell_type": "code",
   "execution_count": 12,
   "metadata": {},
   "outputs": [
    {
     "data": {
      "text/plain": [
       "array([[0.        , 0.660294  , 0.08790828, 0.        ]])"
      ]
     },
     "execution_count": 12,
     "metadata": {},
     "output_type": "execute_result"
    }
   ],
   "source": [
    "similarity_array = cosine_similarity(new_tfidfVectorizer, result_vectors)\n",
    "similarity_array"
   ]
  },
  {
   "cell_type": "code",
   "execution_count": 14,
   "metadata": {},
   "outputs": [
    {
     "data": {
      "text/plain": [
       "'클라우드 컴퓨팅은 데이터 저장과 처리를 더욱 효율적으로 만들어 주며, 기업의 IT 인프라를 혁신하고 있다.'"
      ]
     },
     "execution_count": 14,
     "metadata": {},
     "output_type": "execute_result"
    }
   ],
   "source": [
    "argmax_similarity = similarity_array.argmax()\n",
    "it_sentences[argmax_similarity]"
   ]
  },
  {
   "cell_type": "code",
   "execution_count": null,
   "metadata": {},
   "outputs": [],
   "source": []
  }
 ],
 "metadata": {
  "kernelspec": {
   "display_name": "Python 3",
   "language": "python",
   "name": "python3"
  },
  "language_info": {
   "codemirror_mode": {
    "name": "ipython",
    "version": 3
   },
   "file_extension": ".py",
   "mimetype": "text/x-python",
   "name": "python",
   "nbconvert_exporter": "python",
   "pygments_lexer": "ipython3",
   "version": "3.11.10"
  }
 },
 "nbformat": 4,
 "nbformat_minor": 2
}
