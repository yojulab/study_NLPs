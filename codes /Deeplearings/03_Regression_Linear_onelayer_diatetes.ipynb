{
 "cells": [
  {
   "cell_type": "markdown",
   "id": "511a6c44",
   "metadata": {
    "id": "oq5l7PlCJHGK",
    "papermill": {
     "duration": 0.006604,
     "end_time": "2025-02-03T01:53:38.020210",
     "exception": false,
     "start_time": "2025-02-03T01:53:38.013606",
     "status": "completed"
    },
    "tags": []
   },
   "source": [
    "## 데이터수집"
   ]
  },
  {
   "cell_type": "code",
   "execution_count": 1,
   "id": "1ac9f338",
   "metadata": {
    "execution": {
     "iopub.execute_input": "2025-02-03T01:53:38.030046Z",
     "iopub.status.busy": "2025-02-03T01:53:38.029674Z",
     "iopub.status.idle": "2025-02-03T01:53:39.289284Z",
     "shell.execute_reply": "2025-02-03T01:53:39.288173Z"
    },
    "id": "WWqnlVD1Jzzr",
    "outputId": "b720360d-8452-4f42-f643-f7730c47e2fd",
    "papermill": {
     "duration": 1.266042,
     "end_time": "2025-02-03T01:53:39.290923",
     "exception": false,
     "start_time": "2025-02-03T01:53:38.024881",
     "status": "completed"
    },
    "tags": []
   },
   "outputs": [
    {
     "data": {
      "text/plain": [
       "((442, 10), (442,))"
      ]
     },
     "execution_count": 1,
     "metadata": {},
     "output_type": "execute_result"
    }
   ],
   "source": [
    "from sklearn.datasets import load_diabetes\n",
    "data_diabetes = load_diabetes()\n",
    "features, label = data_diabetes.data, data_diabetes.target\n",
    "features.shape, label.shape"
   ]
  },
  {
   "cell_type": "markdown",
   "id": "c54fdc49",
   "metadata": {
    "id": "5KcIOhMiJNKp",
    "papermill": {
     "duration": 0.003908,
     "end_time": "2025-02-03T01:53:39.299226",
     "exception": false,
     "start_time": "2025-02-03T01:53:39.295318",
     "status": "completed"
    },
    "tags": []
   },
   "source": [
    "## 데이터 전처리\n",
    "- 데이터 분석"
   ]
  },
  {
   "cell_type": "markdown",
   "id": "06adfb88",
   "metadata": {
    "id": "zucSSN6sJWJC",
    "papermill": {
     "duration": 0.003861,
     "end_time": "2025-02-03T01:53:39.307108",
     "exception": false,
     "start_time": "2025-02-03T01:53:39.303247",
     "status": "completed"
    },
    "tags": []
   },
   "source": [
    "## 데이터 분할\n",
    "- train, test, validation"
   ]
  },
  {
   "cell_type": "code",
   "execution_count": 2,
   "id": "e296d674",
   "metadata": {
    "execution": {
     "iopub.execute_input": "2025-02-03T01:53:39.316348Z",
     "iopub.status.busy": "2025-02-03T01:53:39.315817Z",
     "iopub.status.idle": "2025-02-03T01:53:39.414088Z",
     "shell.execute_reply": "2025-02-03T01:53:39.413003Z"
    },
    "id": "H4Bwj5IvKsXq",
    "papermill": {
     "duration": 0.105048,
     "end_time": "2025-02-03T01:53:39.416113",
     "exception": false,
     "start_time": "2025-02-03T01:53:39.311065",
     "status": "completed"
    },
    "tags": []
   },
   "outputs": [],
   "source": [
    "from sklearn.model_selection import train_test_split\n",
    "train_features, test_features, train_label, test_label = train_test_split(features, label, test_size=0.2, random_state=42)"
   ]
  },
  {
   "cell_type": "code",
   "execution_count": 3,
   "id": "e4ada88c",
   "metadata": {
    "execution": {
     "iopub.execute_input": "2025-02-03T01:53:39.425824Z",
     "iopub.status.busy": "2025-02-03T01:53:39.425498Z",
     "iopub.status.idle": "2025-02-03T01:53:43.034879Z",
     "shell.execute_reply": "2025-02-03T01:53:43.034051Z"
    },
    "id": "yuhS4Jc9LQbZ",
    "papermill": {
     "duration": 3.616196,
     "end_time": "2025-02-03T01:53:43.036620",
     "exception": false,
     "start_time": "2025-02-03T01:53:39.420424",
     "status": "completed"
    },
    "tags": []
   },
   "outputs": [],
   "source": [
    "import torch"
   ]
  },
  {
   "cell_type": "code",
   "execution_count": 4,
   "id": "617270c9",
   "metadata": {
    "execution": {
     "iopub.execute_input": "2025-02-03T01:53:43.047328Z",
     "iopub.status.busy": "2025-02-03T01:53:43.046800Z",
     "iopub.status.idle": "2025-02-03T01:53:43.086927Z",
     "shell.execute_reply": "2025-02-03T01:53:43.085914Z"
    },
    "id": "t_YAJ9mELdpZ",
    "outputId": "c71d840d-763a-4497-b6c6-1e27a09e71c6",
    "papermill": {
     "duration": 0.047144,
     "end_time": "2025-02-03T01:53:43.088611",
     "exception": false,
     "start_time": "2025-02-03T01:53:43.041467",
     "status": "completed"
    },
    "tags": []
   },
   "outputs": [
    {
     "data": {
      "text/plain": [
       "(torch.Tensor, torch.Tensor, torch.Size([353, 1]))"
      ]
     },
     "execution_count": 4,
     "metadata": {},
     "output_type": "execute_result"
    }
   ],
   "source": [
    "train_features_tensor = torch.tensor(train_features, dtype=torch.float32)\n",
    "train_label_tensor = torch.tensor(train_label, dtype=torch.float32).view(-1, 1)    # 행렬 모양으로 변경\n",
    "# test_features_tensor = torch.tensor(test_features)\n",
    "# test_label_tensor = torch.tensor(test_label)\n",
    "type(train_features_tensor), type(train_label_tensor), train_label_tensor.shape"
   ]
  },
  {
   "cell_type": "markdown",
   "id": "0d5aa848",
   "metadata": {
    "id": "nATrFQ0EJjwJ",
    "papermill": {
     "duration": 0.003975,
     "end_time": "2025-02-03T01:53:43.097003",
     "exception": false,
     "start_time": "2025-02-03T01:53:43.093028",
     "status": "completed"
    },
    "tags": []
   },
   "source": [
    "## 모델 학습"
   ]
  },
  {
   "cell_type": "code",
   "execution_count": 5,
   "id": "72d796fc",
   "metadata": {
    "execution": {
     "iopub.execute_input": "2025-02-03T01:53:43.106724Z",
     "iopub.status.busy": "2025-02-03T01:53:43.106363Z",
     "iopub.status.idle": "2025-02-03T01:53:43.111306Z",
     "shell.execute_reply": "2025-02-03T01:53:43.110299Z"
    },
    "id": "-pe2fsPfL9gp",
    "papermill": {
     "duration": 0.011715,
     "end_time": "2025-02-03T01:53:43.112971",
     "exception": false,
     "start_time": "2025-02-03T01:53:43.101256",
     "status": "completed"
    },
    "tags": []
   },
   "outputs": [],
   "source": [
    "# simple model linear regression\n",
    "class LinearRegression(torch.nn.Module):\n",
    "    def __init__(self, input_dim, output_dim):    # input_dim:features 열 갯수,  output_dim:label 카테고리 갯수\n",
    "        super(LinearRegression, self).__init__()\n",
    "        self.linear = torch.nn.Linear(input_dim, output_dim)\n",
    "\n",
    "    def forward(self, x):\n",
    "        out = self.linear(x)\n",
    "        return out\n"
   ]
  },
  {
   "cell_type": "code",
   "execution_count": 6,
   "id": "a6a285d9",
   "metadata": {
    "execution": {
     "iopub.execute_input": "2025-02-03T01:53:43.122678Z",
     "iopub.status.busy": "2025-02-03T01:53:43.122340Z",
     "iopub.status.idle": "2025-02-03T01:53:43.127876Z",
     "shell.execute_reply": "2025-02-03T01:53:43.127078Z"
    },
    "id": "gJRMFMXjOToZ",
    "outputId": "eff5c085-ceb2-462a-975f-ef6f08e71131",
    "papermill": {
     "duration": 0.012073,
     "end_time": "2025-02-03T01:53:43.129401",
     "exception": false,
     "start_time": "2025-02-03T01:53:43.117328",
     "status": "completed"
    },
    "tags": []
   },
   "outputs": [
    {
     "data": {
      "text/plain": [
       "(torch.Size([353, 10]), torch.Size([353, 1]))"
      ]
     },
     "execution_count": 6,
     "metadata": {},
     "output_type": "execute_result"
    }
   ],
   "source": [
    "train_features_tensor.shape, train_label_tensor.shape"
   ]
  },
  {
   "cell_type": "code",
   "execution_count": 7,
   "id": "70bcfe74",
   "metadata": {
    "execution": {
     "iopub.execute_input": "2025-02-03T01:53:43.139488Z",
     "iopub.status.busy": "2025-02-03T01:53:43.139144Z",
     "iopub.status.idle": "2025-02-03T01:53:43.152860Z",
     "shell.execute_reply": "2025-02-03T01:53:43.151992Z"
    },
    "id": "N6dfYfN9OKVZ",
    "papermill": {
     "duration": 0.020606,
     "end_time": "2025-02-03T01:53:43.154602",
     "exception": false,
     "start_time": "2025-02-03T01:53:43.133996",
     "status": "completed"
    },
    "tags": []
   },
   "outputs": [],
   "source": [
    "model = LinearRegression(10, train_label_tensor.shape[1])"
   ]
  },
  {
   "cell_type": "code",
   "execution_count": 8,
   "id": "1efb97b7",
   "metadata": {
    "execution": {
     "iopub.execute_input": "2025-02-03T01:53:43.164585Z",
     "iopub.status.busy": "2025-02-03T01:53:43.164268Z",
     "iopub.status.idle": "2025-02-03T01:53:43.169615Z",
     "shell.execute_reply": "2025-02-03T01:53:43.168658Z"
    },
    "id": "Vu7UEFjrPNGR",
    "outputId": "2459ef1f-9b7b-4392-90db-0c868ab350f4",
    "papermill": {
     "duration": 0.011916,
     "end_time": "2025-02-03T01:53:43.171085",
     "exception": false,
     "start_time": "2025-02-03T01:53:43.159169",
     "status": "completed"
    },
    "tags": []
   },
   "outputs": [
    {
     "data": {
      "text/plain": [
       "LinearRegression(\n",
       "  (linear): Linear(in_features=10, out_features=1, bias=True)\n",
       ")"
      ]
     },
     "execution_count": 8,
     "metadata": {},
     "output_type": "execute_result"
    }
   ],
   "source": [
    "model"
   ]
  },
  {
   "cell_type": "code",
   "execution_count": 9,
   "id": "526bd0d4",
   "metadata": {
    "execution": {
     "iopub.execute_input": "2025-02-03T01:53:43.180937Z",
     "iopub.status.busy": "2025-02-03T01:53:43.180584Z",
     "iopub.status.idle": "2025-02-03T01:53:47.717962Z",
     "shell.execute_reply": "2025-02-03T01:53:47.717119Z"
    },
    "id": "PkH3WN7eVZE6",
    "papermill": {
     "duration": 4.544286,
     "end_time": "2025-02-03T01:53:47.719810",
     "exception": false,
     "start_time": "2025-02-03T01:53:43.175524",
     "status": "completed"
    },
    "tags": []
   },
   "outputs": [],
   "source": [
    "criterion = torch.nn.MSELoss()  # Loss function\n",
    "optimizer = torch.optim.SGD(model.parameters(), lr=0.01)  # optimizer function"
   ]
  },
  {
   "cell_type": "code",
   "execution_count": 10,
   "id": "3f989a3d",
   "metadata": {
    "execution": {
     "iopub.execute_input": "2025-02-03T01:53:47.730216Z",
     "iopub.status.busy": "2025-02-03T01:53:47.729718Z",
     "iopub.status.idle": "2025-02-03T01:53:48.228683Z",
     "shell.execute_reply": "2025-02-03T01:53:48.227587Z"
    },
    "id": "fAp4BWFOWpvJ",
    "outputId": "c011f3aa-ea92-4172-8073-244b0321a5e7",
    "papermill": {
     "duration": 0.506054,
     "end_time": "2025-02-03T01:53:48.230613",
     "exception": false,
     "start_time": "2025-02-03T01:53:47.724559",
     "status": "completed"
    },
    "tags": []
   },
   "outputs": [
    {
     "name": "stdout",
     "output_type": "stream",
     "text": [
      "epoch: 0, loss: 29715.16796875\n",
      "epoch: 100, loss: 6409.353515625\n",
      "epoch: 200, loss: 5924.60888671875\n",
      "epoch: 300, loss: 5843.544921875\n",
      "epoch: 400, loss: 5771.828125\n",
      "epoch: 500, loss: 5702.44921875\n",
      "epoch: 600, loss: 5635.2080078125\n",
      "epoch: 700, loss: 5570.03173828125\n",
      "epoch: 800, loss: 5506.8515625\n",
      "epoch: 900, loss: 5445.5986328125\n"
     ]
    }
   ],
   "source": [
    "## 반복 학습\n",
    "# for epoch in range(10):\n",
    "for epoch in range(1000):\n",
    "    # Forward pass: Compute predicted y by passing x to the model\n",
    "    pred_y = model(train_features_tensor)\n",
    "\n",
    "    # Compute and print loss\n",
    "    loss = criterion(pred_y, train_label_tensor)\n",
    "\n",
    "    optimizer.zero_grad()\n",
    "    loss.backward()\n",
    "    optimizer.step()\n",
    "    if epoch % 100 == 0:\n",
    "      print('epoch: {}, loss: {}'.format(epoch, loss.item()))"
   ]
  },
  {
   "cell_type": "markdown",
   "id": "3f6da12a",
   "metadata": {
    "id": "Vm7nLFcqJn6h",
    "papermill": {
     "duration": 0.004623,
     "end_time": "2025-02-03T01:53:48.240055",
     "exception": false,
     "start_time": "2025-02-03T01:53:48.235432",
     "status": "completed"
    },
    "tags": []
   },
   "source": [
    "## 모델 평가"
   ]
  },
  {
   "cell_type": "code",
   "execution_count": 11,
   "id": "ace52845",
   "metadata": {
    "execution": {
     "iopub.execute_input": "2025-02-03T01:53:48.250679Z",
     "iopub.status.busy": "2025-02-03T01:53:48.250331Z",
     "iopub.status.idle": "2025-02-03T01:53:48.255734Z",
     "shell.execute_reply": "2025-02-03T01:53:48.254812Z"
    },
    "id": "TcxYXQj2YojK",
    "outputId": "b216ed77-ae65-4995-c99f-8858c92b4136",
    "papermill": {
     "duration": 0.012361,
     "end_time": "2025-02-03T01:53:48.257337",
     "exception": false,
     "start_time": "2025-02-03T01:53:48.244976",
     "status": "completed"
    },
    "tags": []
   },
   "outputs": [
    {
     "data": {
      "text/plain": [
       "LinearRegression(\n",
       "  (linear): Linear(in_features=10, out_features=1, bias=True)\n",
       ")"
      ]
     },
     "execution_count": 11,
     "metadata": {},
     "output_type": "execute_result"
    }
   ],
   "source": [
    "model.eval()"
   ]
  },
  {
   "cell_type": "code",
   "execution_count": 12,
   "id": "c72e1c3c",
   "metadata": {
    "execution": {
     "iopub.execute_input": "2025-02-03T01:53:48.267708Z",
     "iopub.status.busy": "2025-02-03T01:53:48.267373Z",
     "iopub.status.idle": "2025-02-03T01:53:48.272871Z",
     "shell.execute_reply": "2025-02-03T01:53:48.271936Z"
    },
    "id": "kZsIrHPnYsox",
    "outputId": "0d4c2cb2-9995-4f3c-d8ec-b51200d652db",
    "papermill": {
     "duration": 0.012328,
     "end_time": "2025-02-03T01:53:48.274385",
     "exception": false,
     "start_time": "2025-02-03T01:53:48.262057",
     "status": "completed"
    },
    "tags": []
   },
   "outputs": [
    {
     "name": "stdout",
     "output_type": "stream",
     "text": [
      "loss: 5386.2080078125\n"
     ]
    }
   ],
   "source": [
    "with torch.no_grad():   # 학습 목적 아닌 평가 목적 위해 고정\n",
    "    pred_y = model(train_features_tensor)\n",
    "    loss = criterion(pred_y, train_label_tensor)  # 예측도 같은 Loss function\n",
    "    print('loss: {}'.format(loss.item()))"
   ]
  },
  {
   "cell_type": "markdown",
   "id": "93fad1b0",
   "metadata": {
    "id": "AmEg3DFvJqlK",
    "papermill": {
     "duration": 0.004477,
     "end_time": "2025-02-03T01:53:48.283687",
     "exception": false,
     "start_time": "2025-02-03T01:53:48.279210",
     "status": "completed"
    },
    "tags": []
   },
   "source": [
    "## 모델 배포"
   ]
  },
  {
   "cell_type": "code",
   "execution_count": null,
   "id": "197648de",
   "metadata": {
    "id": "L1Hp5HyRI3ov",
    "papermill": {
     "duration": 0.004264,
     "end_time": "2025-02-03T01:53:48.292521",
     "exception": false,
     "start_time": "2025-02-03T01:53:48.288257",
     "status": "completed"
    },
    "tags": []
   },
   "outputs": [],
   "source": []
  }
 ],
 "metadata": {
  "colab": {
   "provenance": []
  },
  "kaggle": {
   "accelerator": "none",
   "dataSources": [],
   "dockerImageVersionId": 30839,
   "isGpuEnabled": false,
   "isInternetEnabled": false,
   "language": "python",
   "sourceType": "notebook"
  },
  "kernelspec": {
   "display_name": "Python 3",
   "language": "python",
   "name": "python3"
  },
  "language_info": {
   "codemirror_mode": {
    "name": "ipython",
    "version": 3
   },
   "file_extension": ".py",
   "mimetype": "text/x-python",
   "name": "python",
   "nbconvert_exporter": "python",
   "pygments_lexer": "ipython3",
   "version": "3.10.12"
  },
  "papermill": {
   "default_parameters": {},
   "duration": 14.514213,
   "end_time": "2025-02-03T01:53:49.919471",
   "environment_variables": {},
   "exception": null,
   "input_path": "__notebook__.ipynb",
   "output_path": "__notebook__.ipynb",
   "parameters": {},
   "start_time": "2025-02-03T01:53:35.405258",
   "version": "2.6.0"
  }
 },
 "nbformat": 4,
 "nbformat_minor": 5
}
